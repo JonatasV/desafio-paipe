{
 "cells": [
  {
   "cell_type": "markdown",
   "id": "820041d1-58c5-43c9-9316-99503a338a61",
   "metadata": {},
   "source": [
    "## 0.1 Imports"
   ]
  },
  {
   "cell_type": "code",
   "execution_count": 85,
   "id": "6f293309-2894-4187-98bd-5543f52cf38e",
   "metadata": {
    "ExecuteTime": {
     "end_time": "2024-11-04T23:45:13.985741Z",
     "start_time": "2024-11-04T23:45:13.977841Z"
    }
   },
   "outputs": [],
   "source": [
    "import pandas as pd\n",
    "import numpy as np\n",
    "import seaborn as sns\n",
    "import matplotlib.pyplot as plt\n",
    "from sqlalchemy import create_engine"
   ]
  },
  {
   "cell_type": "markdown",
   "id": "22bf133a-fccf-473a-950c-eb450941125f",
   "metadata": {},
   "source": [
    "## 0.2 Configurando conexão com SQLite "
   ]
  },
  {
   "cell_type": "code",
   "execution_count": 86,
   "id": "6be8e242-4899-453d-8e96-58c2a62cbc65",
   "metadata": {
    "ExecuteTime": {
     "end_time": "2024-11-04T23:45:14.424639Z",
     "start_time": "2024-11-04T23:45:14.416262Z"
    }
   },
   "outputs": [],
   "source": [
    "engine = create_engine(\"sqlite://///Users/jonatas/Documents/db_paipe/Untitled\")"
   ]
  },
  {
   "cell_type": "markdown",
   "id": "c0c12770-6c6e-49fa-b088-9c869f63e5e1",
   "metadata": {},
   "source": [
    "## 0.3 Carregando dados de TREINO e dados de TESTE do BD"
   ]
  },
  {
   "cell_type": "code",
   "execution_count": 87,
   "id": "eddb9664-54c0-42d3-8214-90e77fd0ce6d",
   "metadata": {
    "ExecuteTime": {
     "end_time": "2024-11-04T23:45:17.798149Z",
     "start_time": "2024-11-04T23:45:14.486871Z"
    }
   },
   "outputs": [],
   "source": [
    "# Dados de treino\n",
    "df_treino = pd.read_sql(\"SELECT * FROM traindf\", con=engine)\n",
    "\n",
    "# Dados de teste\n",
    "#df_teste = pd.read_sql(\"SELECT * FROM test\", con=engine)"
   ]
  },
  {
   "cell_type": "markdown",
   "id": "af5da2ef-a5e1-42a8-be1d-28bec112e77d",
   "metadata": {},
   "source": [
    "# 1.0 Overview, Limpeza e Análise Exploratória de Dados"
   ]
  },
  {
   "cell_type": "code",
   "execution_count": 88,
   "id": "ff23e9e7-bdc6-47cb-9c39-b9b6b592d5fe",
   "metadata": {
    "ExecuteTime": {
     "end_time": "2024-11-04T23:45:17.813439Z",
     "start_time": "2024-11-04T23:45:17.800786Z"
    }
   },
   "outputs": [
    {
     "data": {
      "text/html": [
       "<div>\n",
       "<style scoped>\n",
       "    .dataframe tbody tr th:only-of-type {\n",
       "        vertical-align: middle;\n",
       "    }\n",
       "\n",
       "    .dataframe tbody tr th {\n",
       "        vertical-align: top;\n",
       "    }\n",
       "\n",
       "    .dataframe thead th {\n",
       "        text-align: right;\n",
       "    }\n",
       "</style>\n",
       "<table border=\"1\" class=\"dataframe\">\n",
       "  <thead>\n",
       "    <tr style=\"text-align: right;\">\n",
       "      <th></th>\n",
       "      <th>Type</th>\n",
       "      <th>Region</th>\n",
       "      <th>MunicipalityCode</th>\n",
       "      <th>Prefecture</th>\n",
       "      <th>Municipality</th>\n",
       "      <th>DistrictName</th>\n",
       "      <th>NearestStation</th>\n",
       "      <th>TimeToNearestStation</th>\n",
       "      <th>MinTimeToNearestStation</th>\n",
       "      <th>MaxTimeToNearestStation</th>\n",
       "      <th>...</th>\n",
       "      <th>Breadth</th>\n",
       "      <th>CityPlanning</th>\n",
       "      <th>CoverageRatio</th>\n",
       "      <th>FloorAreaRatio</th>\n",
       "      <th>Period</th>\n",
       "      <th>Year</th>\n",
       "      <th>Quarter</th>\n",
       "      <th>Renovation</th>\n",
       "      <th>Remarks</th>\n",
       "      <th>TradePrice</th>\n",
       "    </tr>\n",
       "  </thead>\n",
       "  <tbody>\n",
       "    <tr>\n",
       "      <th>0</th>\n",
       "      <td>Pre-owned Condominiums</td>\n",
       "      <td>etc.</td>\n",
       "      <td>13103</td>\n",
       "      <td>Tokyo</td>\n",
       "      <td>Minato Ward</td>\n",
       "      <td>Kaigan</td>\n",
       "      <td>Takeshiba</td>\n",
       "      <td>1</td>\n",
       "      <td>1.0</td>\n",
       "      <td>1.0</td>\n",
       "      <td>...</td>\n",
       "      <td></td>\n",
       "      <td>Quasi-industrial Zone</td>\n",
       "      <td>60.0</td>\n",
       "      <td>400.0</td>\n",
       "      <td>1st quarter 2011</td>\n",
       "      <td>2011</td>\n",
       "      <td>1</td>\n",
       "      <td>Done</td>\n",
       "      <td></td>\n",
       "      <td>24000000</td>\n",
       "    </tr>\n",
       "    <tr>\n",
       "      <th>1</th>\n",
       "      <td>Residential Land(Land and Building)</td>\n",
       "      <td>Residential Area</td>\n",
       "      <td>13120</td>\n",
       "      <td>Tokyo</td>\n",
       "      <td>Nerima Ward</td>\n",
       "      <td>Nishiki</td>\n",
       "      <td>Kamiitabashi</td>\n",
       "      <td>15</td>\n",
       "      <td>15.0</td>\n",
       "      <td>15.0</td>\n",
       "      <td>...</td>\n",
       "      <td>4.0</td>\n",
       "      <td>Category I Exclusively Low-story Residential Zone</td>\n",
       "      <td>60.0</td>\n",
       "      <td>200.0</td>\n",
       "      <td>3rd quarter 2013</td>\n",
       "      <td>2013</td>\n",
       "      <td>3</td>\n",
       "      <td></td>\n",
       "      <td>Dealings including private road</td>\n",
       "      <td>51000000</td>\n",
       "    </tr>\n",
       "    <tr>\n",
       "      <th>2</th>\n",
       "      <td>Residential Land(Land Only)</td>\n",
       "      <td>Residential Area</td>\n",
       "      <td>13201</td>\n",
       "      <td>Tokyo</td>\n",
       "      <td>Hachioji City</td>\n",
       "      <td>Shimoongatamachi</td>\n",
       "      <td>Takao (Tokyo)</td>\n",
       "      <td>1H-1H30</td>\n",
       "      <td>60.0</td>\n",
       "      <td>90.0</td>\n",
       "      <td>...</td>\n",
       "      <td>4.5</td>\n",
       "      <td>Category I Exclusively Low-story Residential Zone</td>\n",
       "      <td>40.0</td>\n",
       "      <td>80.0</td>\n",
       "      <td>4th quarter 2007</td>\n",
       "      <td>2007</td>\n",
       "      <td>4</td>\n",
       "      <td></td>\n",
       "      <td></td>\n",
       "      <td>14000000</td>\n",
       "    </tr>\n",
       "    <tr>\n",
       "      <th>3</th>\n",
       "      <td>Pre-owned Condominiums</td>\n",
       "      <td>etc.</td>\n",
       "      <td>13208</td>\n",
       "      <td>Tokyo</td>\n",
       "      <td>Chofu City</td>\n",
       "      <td>Kamiishiwara</td>\n",
       "      <td>Nishichofu</td>\n",
       "      <td>16</td>\n",
       "      <td>16.0</td>\n",
       "      <td>16.0</td>\n",
       "      <td>...</td>\n",
       "      <td></td>\n",
       "      <td>Quasi-industrial Zone</td>\n",
       "      <td>60.0</td>\n",
       "      <td>200.0</td>\n",
       "      <td>2nd quarter 2015</td>\n",
       "      <td>2015</td>\n",
       "      <td>2</td>\n",
       "      <td>Not yet</td>\n",
       "      <td></td>\n",
       "      <td>23000000</td>\n",
       "    </tr>\n",
       "    <tr>\n",
       "      <th>4</th>\n",
       "      <td>Residential Land(Land Only)</td>\n",
       "      <td>Residential Area</td>\n",
       "      <td>13117</td>\n",
       "      <td>Tokyo</td>\n",
       "      <td>Kita Ward</td>\n",
       "      <td>Shimo</td>\n",
       "      <td>Shimo</td>\n",
       "      <td>6</td>\n",
       "      <td>6.0</td>\n",
       "      <td>6.0</td>\n",
       "      <td>...</td>\n",
       "      <td>4.5</td>\n",
       "      <td>Category I Exclusively Medium-high Residential...</td>\n",
       "      <td>60.0</td>\n",
       "      <td>200.0</td>\n",
       "      <td>4th quarter 2015</td>\n",
       "      <td>2015</td>\n",
       "      <td>4</td>\n",
       "      <td></td>\n",
       "      <td></td>\n",
       "      <td>33000000</td>\n",
       "    </tr>\n",
       "  </tbody>\n",
       "</table>\n",
       "<p>5 rows × 37 columns</p>\n",
       "</div>"
      ],
      "text/plain": [
       "                                  Type            Region  MunicipalityCode  \\\n",
       "0               Pre-owned Condominiums              etc.             13103   \n",
       "1  Residential Land(Land and Building)  Residential Area             13120   \n",
       "2          Residential Land(Land Only)  Residential Area             13201   \n",
       "3               Pre-owned Condominiums              etc.             13208   \n",
       "4          Residential Land(Land Only)  Residential Area             13117   \n",
       "\n",
       "  Prefecture   Municipality      DistrictName NearestStation  \\\n",
       "0      Tokyo    Minato Ward            Kaigan      Takeshiba   \n",
       "1      Tokyo    Nerima Ward           Nishiki   Kamiitabashi   \n",
       "2      Tokyo  Hachioji City  Shimoongatamachi  Takao (Tokyo)   \n",
       "3      Tokyo     Chofu City      Kamiishiwara     Nishichofu   \n",
       "4      Tokyo      Kita Ward             Shimo          Shimo   \n",
       "\n",
       "  TimeToNearestStation MinTimeToNearestStation MaxTimeToNearestStation  ...  \\\n",
       "0                    1                     1.0                     1.0  ...   \n",
       "1                   15                    15.0                    15.0  ...   \n",
       "2              1H-1H30                    60.0                    90.0  ...   \n",
       "3                   16                    16.0                    16.0  ...   \n",
       "4                    6                     6.0                     6.0  ...   \n",
       "\n",
       "  Breadth                                       CityPlanning  CoverageRatio  \\\n",
       "0                                      Quasi-industrial Zone           60.0   \n",
       "1     4.0  Category I Exclusively Low-story Residential Zone           60.0   \n",
       "2     4.5  Category I Exclusively Low-story Residential Zone           40.0   \n",
       "3                                      Quasi-industrial Zone           60.0   \n",
       "4     4.5  Category I Exclusively Medium-high Residential...           60.0   \n",
       "\n",
       "  FloorAreaRatio            Period  Year Quarter Renovation  \\\n",
       "0          400.0  1st quarter 2011  2011       1       Done   \n",
       "1          200.0  3rd quarter 2013  2013       3              \n",
       "2           80.0  4th quarter 2007  2007       4              \n",
       "3          200.0  2nd quarter 2015  2015       2    Not yet   \n",
       "4          200.0  4th quarter 2015  2015       4              \n",
       "\n",
       "                           Remarks  TradePrice  \n",
       "0                                     24000000  \n",
       "1  Dealings including private road    51000000  \n",
       "2                                     14000000  \n",
       "3                                     23000000  \n",
       "4                                     33000000  \n",
       "\n",
       "[5 rows x 37 columns]"
      ]
     },
     "execution_count": 88,
     "metadata": {},
     "output_type": "execute_result"
    }
   ],
   "source": [
    "df_treino.head()"
   ]
  },
  {
   "cell_type": "code",
   "execution_count": 89,
   "id": "aa9d9a0c-f81b-401f-91e5-381bfa028dfc",
   "metadata": {
    "ExecuteTime": {
     "end_time": "2024-11-04T23:45:17.816135Z",
     "start_time": "2024-11-04T23:45:17.814205Z"
    }
   },
   "outputs": [
    {
     "name": "stdout",
     "output_type": "stream",
     "text": [
      "Numero de linhas: 325260\n",
      "Numero de colunas: 37\n"
     ]
    }
   ],
   "source": [
    "print(\"Numero de linhas: {}\".format(df_treino.shape[0]))\n",
    "print(\"Numero de colunas: {}\".format(df_treino.shape[1]))"
   ]
  },
  {
   "cell_type": "code",
   "execution_count": 90,
   "id": "452b85e4",
   "metadata": {
    "ExecuteTime": {
     "end_time": "2024-11-04T23:45:18.626854Z",
     "start_time": "2024-11-04T23:45:17.817324Z"
    }
   },
   "outputs": [
    {
     "data": {
      "text/plain": [
       "2467"
      ]
     },
     "execution_count": 90,
     "metadata": {},
     "output_type": "execute_result"
    }
   ],
   "source": [
    "df_treino.duplicated().sum()"
   ]
  },
  {
   "cell_type": "code",
   "execution_count": 91,
   "id": "eec85952",
   "metadata": {
    "ExecuteTime": {
     "end_time": "2024-11-04T23:45:19.520689Z",
     "start_time": "2024-11-04T23:45:18.627534Z"
    }
   },
   "outputs": [],
   "source": [
    "df_treino = df_treino.drop_duplicates()"
   ]
  },
  {
   "cell_type": "code",
   "execution_count": 92,
   "id": "f79aa427",
   "metadata": {
    "ExecuteTime": {
     "end_time": "2024-11-04T23:45:19.921052Z",
     "start_time": "2024-11-04T23:45:19.521452Z"
    }
   },
   "outputs": [
    {
     "name": "stdout",
     "output_type": "stream",
     "text": [
      "<class 'pandas.core.frame.DataFrame'>\n",
      "Index: 322793 entries, 0 to 325259\n",
      "Data columns (total 37 columns):\n",
      " #   Column                       Non-Null Count   Dtype \n",
      "---  ------                       --------------   ----- \n",
      " 0   Type                         322793 non-null  object\n",
      " 1   Region                       322793 non-null  object\n",
      " 2   MunicipalityCode             322793 non-null  int64 \n",
      " 3   Prefecture                   322793 non-null  object\n",
      " 4   Municipality                 322793 non-null  object\n",
      " 5   DistrictName                 322793 non-null  object\n",
      " 6   NearestStation               322793 non-null  object\n",
      " 7   TimeToNearestStation         322793 non-null  object\n",
      " 8   MinTimeToNearestStation      322793 non-null  object\n",
      " 9   MaxTimeToNearestStation      322793 non-null  object\n",
      " 10  FloorPlan                    322793 non-null  object\n",
      " 11  Area                         322793 non-null  int64 \n",
      " 12  AreaIsGreaterFlag            322793 non-null  int64 \n",
      " 13  UnitPrice                    322793 non-null  object\n",
      " 14  PricePerTsubo                322793 non-null  object\n",
      " 15  LandShape                    322793 non-null  object\n",
      " 16  Frontage                     322793 non-null  object\n",
      " 17  FrontageIsGreaterFlag        322793 non-null  object\n",
      " 18  TotalFloorArea               322793 non-null  object\n",
      " 19  TotalFloorAreaIsGreaterFlag  322793 non-null  int64 \n",
      " 20  BuildingYear                 322793 non-null  object\n",
      " 21  PrewarBuilding               322793 non-null  int64 \n",
      " 22  Structure                    322793 non-null  object\n",
      " 23  Use                          322793 non-null  object\n",
      " 24  Purpose                      322793 non-null  object\n",
      " 25  Direction                    322793 non-null  object\n",
      " 26  Classification               322793 non-null  object\n",
      " 27  Breadth                      322793 non-null  object\n",
      " 28  CityPlanning                 322793 non-null  object\n",
      " 29  CoverageRatio                322793 non-null  object\n",
      " 30  FloorAreaRatio               322793 non-null  object\n",
      " 31  Period                       322793 non-null  object\n",
      " 32  Year                         322793 non-null  int64 \n",
      " 33  Quarter                      322793 non-null  int64 \n",
      " 34  Renovation                   322793 non-null  object\n",
      " 35  Remarks                      322793 non-null  object\n",
      " 36  TradePrice                   322793 non-null  int64 \n",
      "dtypes: int64(8), object(29)\n",
      "memory usage: 93.6+ MB\n"
     ]
    }
   ],
   "source": [
    "df_treino.info()"
   ]
  },
  {
   "cell_type": "code",
   "execution_count": 93,
   "id": "6551d0b4",
   "metadata": {
    "ExecuteTime": {
     "end_time": "2024-11-04T23:45:19.969352Z",
     "start_time": "2024-11-04T23:45:19.921726Z"
    }
   },
   "outputs": [
    {
     "data": {
      "text/html": [
       "<div>\n",
       "<style scoped>\n",
       "    .dataframe tbody tr th:only-of-type {\n",
       "        vertical-align: middle;\n",
       "    }\n",
       "\n",
       "    .dataframe tbody tr th {\n",
       "        vertical-align: top;\n",
       "    }\n",
       "\n",
       "    .dataframe thead th {\n",
       "        text-align: right;\n",
       "    }\n",
       "</style>\n",
       "<table border=\"1\" class=\"dataframe\">\n",
       "  <thead>\n",
       "    <tr style=\"text-align: right;\">\n",
       "      <th></th>\n",
       "      <th>MunicipalityCode</th>\n",
       "      <th>Area</th>\n",
       "      <th>AreaIsGreaterFlag</th>\n",
       "      <th>TotalFloorAreaIsGreaterFlag</th>\n",
       "      <th>PrewarBuilding</th>\n",
       "      <th>Year</th>\n",
       "      <th>Quarter</th>\n",
       "      <th>TradePrice</th>\n",
       "    </tr>\n",
       "  </thead>\n",
       "  <tbody>\n",
       "    <tr>\n",
       "      <th>count</th>\n",
       "      <td>322793.000000</td>\n",
       "      <td>322793.000000</td>\n",
       "      <td>322793.000000</td>\n",
       "      <td>322793.000000</td>\n",
       "      <td>322793.000000</td>\n",
       "      <td>322793.000000</td>\n",
       "      <td>322793.000000</td>\n",
       "      <td>3.227930e+05</td>\n",
       "    </tr>\n",
       "    <tr>\n",
       "      <th>mean</th>\n",
       "      <td>13139.923948</td>\n",
       "      <td>117.783827</td>\n",
       "      <td>0.003600</td>\n",
       "      <td>0.003036</td>\n",
       "      <td>0.000762</td>\n",
       "      <td>2012.600335</td>\n",
       "      <td>2.499528</td>\n",
       "      <td>6.644556e+07</td>\n",
       "    </tr>\n",
       "    <tr>\n",
       "      <th>std</th>\n",
       "      <td>46.162175</td>\n",
       "      <td>204.903810</td>\n",
       "      <td>0.059891</td>\n",
       "      <td>0.055016</td>\n",
       "      <td>0.027596</td>\n",
       "      <td>3.900543</td>\n",
       "      <td>1.118705</td>\n",
       "      <td>3.257466e+08</td>\n",
       "    </tr>\n",
       "    <tr>\n",
       "      <th>min</th>\n",
       "      <td>13101.000000</td>\n",
       "      <td>10.000000</td>\n",
       "      <td>0.000000</td>\n",
       "      <td>0.000000</td>\n",
       "      <td>0.000000</td>\n",
       "      <td>2005.000000</td>\n",
       "      <td>1.000000</td>\n",
       "      <td>1.000000e+03</td>\n",
       "    </tr>\n",
       "    <tr>\n",
       "      <th>25%</th>\n",
       "      <td>13110.000000</td>\n",
       "      <td>50.000000</td>\n",
       "      <td>0.000000</td>\n",
       "      <td>0.000000</td>\n",
       "      <td>0.000000</td>\n",
       "      <td>2009.000000</td>\n",
       "      <td>1.000000</td>\n",
       "      <td>2.200000e+07</td>\n",
       "    </tr>\n",
       "    <tr>\n",
       "      <th>50%</th>\n",
       "      <td>13117.000000</td>\n",
       "      <td>70.000000</td>\n",
       "      <td>0.000000</td>\n",
       "      <td>0.000000</td>\n",
       "      <td>0.000000</td>\n",
       "      <td>2013.000000</td>\n",
       "      <td>3.000000</td>\n",
       "      <td>3.500000e+07</td>\n",
       "    </tr>\n",
       "    <tr>\n",
       "      <th>75%</th>\n",
       "      <td>13201.000000</td>\n",
       "      <td>115.000000</td>\n",
       "      <td>0.000000</td>\n",
       "      <td>0.000000</td>\n",
       "      <td>0.000000</td>\n",
       "      <td>2016.000000</td>\n",
       "      <td>3.000000</td>\n",
       "      <td>5.400000e+07</td>\n",
       "    </tr>\n",
       "    <tr>\n",
       "      <th>max</th>\n",
       "      <td>13421.000000</td>\n",
       "      <td>5000.000000</td>\n",
       "      <td>1.000000</td>\n",
       "      <td>1.000000</td>\n",
       "      <td>1.000000</td>\n",
       "      <td>2019.000000</td>\n",
       "      <td>4.000000</td>\n",
       "      <td>6.100000e+10</td>\n",
       "    </tr>\n",
       "  </tbody>\n",
       "</table>\n",
       "</div>"
      ],
      "text/plain": [
       "       MunicipalityCode           Area  AreaIsGreaterFlag  \\\n",
       "count     322793.000000  322793.000000      322793.000000   \n",
       "mean       13139.923948     117.783827           0.003600   \n",
       "std           46.162175     204.903810           0.059891   \n",
       "min        13101.000000      10.000000           0.000000   \n",
       "25%        13110.000000      50.000000           0.000000   \n",
       "50%        13117.000000      70.000000           0.000000   \n",
       "75%        13201.000000     115.000000           0.000000   \n",
       "max        13421.000000    5000.000000           1.000000   \n",
       "\n",
       "       TotalFloorAreaIsGreaterFlag  PrewarBuilding           Year  \\\n",
       "count                322793.000000   322793.000000  322793.000000   \n",
       "mean                      0.003036        0.000762    2012.600335   \n",
       "std                       0.055016        0.027596       3.900543   \n",
       "min                       0.000000        0.000000    2005.000000   \n",
       "25%                       0.000000        0.000000    2009.000000   \n",
       "50%                       0.000000        0.000000    2013.000000   \n",
       "75%                       0.000000        0.000000    2016.000000   \n",
       "max                       1.000000        1.000000    2019.000000   \n",
       "\n",
       "             Quarter    TradePrice  \n",
       "count  322793.000000  3.227930e+05  \n",
       "mean        2.499528  6.644556e+07  \n",
       "std         1.118705  3.257466e+08  \n",
       "min         1.000000  1.000000e+03  \n",
       "25%         1.000000  2.200000e+07  \n",
       "50%         3.000000  3.500000e+07  \n",
       "75%         3.000000  5.400000e+07  \n",
       "max         4.000000  6.100000e+10  "
      ]
     },
     "execution_count": 93,
     "metadata": {},
     "output_type": "execute_result"
    }
   ],
   "source": [
    "df_treino.describe() # para var numericas"
   ]
  },
  {
   "cell_type": "markdown",
   "id": "8365dc4d",
   "metadata": {},
   "source": [
    "### Convertendo as variáveis para os tipos indicados"
   ]
  },
  {
   "cell_type": "code",
   "execution_count": 94,
   "id": "ba03ef58",
   "metadata": {
    "ExecuteTime": {
     "end_time": "2024-11-04T23:45:20.802420Z",
     "start_time": "2024-11-04T23:45:19.970112Z"
    }
   },
   "outputs": [
    {
     "name": "stdout",
     "output_type": "stream",
     "text": [
      "Type                           string[python]\n",
      "Region                         string[python]\n",
      "MunicipalityCode                        Int64\n",
      "Prefecture                     string[python]\n",
      "Municipality                   string[python]\n",
      "DistrictName                   string[python]\n",
      "NearestStation                 string[python]\n",
      "TimeToNearestStation           string[python]\n",
      "MinTimeToNearestStation                 Int64\n",
      "MaxTimeToNearestStation                 Int64\n",
      "FloorPlan                      string[python]\n",
      "Area                                    Int64\n",
      "AreaIsGreaterFlag                       Int64\n",
      "UnitPrice                             float64\n",
      "PricePerTsubo                         float64\n",
      "LandShape                      string[python]\n",
      "Frontage                              float64\n",
      "FrontageIsGreaterFlag                 boolean\n",
      "TotalFloorArea                          Int64\n",
      "TotalFloorAreaIsGreaterFlag             Int64\n",
      "BuildingYear                            Int64\n",
      "PrewarBuilding                          Int64\n",
      "Structure                      string[python]\n",
      "Use                            string[python]\n",
      "Purpose                        string[python]\n",
      "Direction                      string[python]\n",
      "Classification                 string[python]\n",
      "Breadth                               float64\n",
      "CityPlanning                   string[python]\n",
      "CoverageRatio                         float64\n",
      "FloorAreaRatio                        float64\n",
      "Period                         string[python]\n",
      "Year                                    Int64\n",
      "Quarter                                 Int64\n",
      "Renovation                     string[python]\n",
      "Remarks                        string[python]\n",
      "TradePrice                              Int64\n",
      "dtype: object\n"
     ]
    }
   ],
   "source": [
    "# dicionário de mapeamento de tipos de dados\n",
    "tipo_variaveis = {\n",
    "    \"Type\": \"str\",\n",
    "    \"Region\": \"str\",\n",
    "    \"MunicipalityCode\": \"int\",\n",
    "    \"Prefecture\": \"str\",\n",
    "    \"Municipality\": \"str\",\n",
    "    \"DistrictName\": \"str\",\n",
    "    \"NearestStation\": \"str\",\n",
    "    \"TimeToNearestStation\": \"str\",\n",
    "    \"MinTimeToNearestStation\": \"int\",\n",
    "    \"MaxTimeToNearestStation\": \"int\",\n",
    "    \"FloorPlan\": \"str\",\n",
    "    \"Area\": \"int\",\n",
    "    \"AreaIsGreaterFlag\": \"int\",\n",
    "    \"UnitPrice\": \"float\",\n",
    "    \"PricePerTsubo\": \"float\",\n",
    "    \"LandShape\": \"str\",\n",
    "    \"Frontage\": \"float\",\n",
    "    \"FrontageIsGreaterFlag\": \"bool\",\n",
    "    \"TotalFloorArea\": \"int\",\n",
    "    \"TotalFloorAreaIsGreaterFlag\": \"int\",\n",
    "    \"BuildingYear\": \"int\",\n",
    "    \"PrewarBuilding\": \"int\",\n",
    "    \"Structure\": \"str\",\n",
    "    \"Use\": \"str\",\n",
    "    \"Purpose\": \"str\",\n",
    "    \"Direction\": \"str\",\n",
    "    \"Classification\": \"str\",\n",
    "    \"Breadth\": \"float\",\n",
    "    \"CityPlanning\": \"str\",\n",
    "    \"CoverageRatio\": \"float\",\n",
    "    \"FloorAreaRatio\": \"float\",\n",
    "    \"Period\": \"str\",\n",
    "    \"Year\": \"int\",\n",
    "    \"Quarter\": \"int\",\n",
    "    \"Renovation\": \"str\",\n",
    "    \"Remarks\": \"str\",\n",
    "    \"TradePrice\": \"int\"\n",
    "}\n",
    "\n",
    "# Aplicar conversões\n",
    "for coluna, tipo in tipo_variaveis.items():\n",
    "    try:\n",
    "        if tipo == \"int\":\n",
    "            df_treino[coluna] = pd.to_numeric(df_treino[coluna], errors='coerce').astype(\"Int64\")\n",
    "        elif tipo == \"float\":\n",
    "            df_treino[coluna] = pd.to_numeric(df_treino[coluna], errors='coerce')\n",
    "        elif tipo == \"bool\":\n",
    "            df_treino[coluna] = df_treino[coluna].map({1: True, 0: False, 'True': True, 'False': False}).astype(\"boolean\")\n",
    "        else:\n",
    "            df_treino[coluna] = df_treino[coluna].astype(\"string\")\n",
    "    except KeyError:\n",
    "        print(f\"Coluna '{coluna}' não encontrada no DataFrame\")\n",
    "\n",
    "print(df_treino.dtypes)\n"
   ]
  },
  {
   "cell_type": "markdown",
   "id": "017ee617",
   "metadata": {},
   "source": [
    "### Verificando missing values "
   ]
  },
  {
   "cell_type": "code",
   "execution_count": 95,
   "id": "0579c5c0",
   "metadata": {
    "ExecuteTime": {
     "end_time": "2024-11-04T23:45:21.073490Z",
     "start_time": "2024-11-04T23:45:20.803148Z"
    },
    "scrolled": false
   },
   "outputs": [
    {
     "data": {
      "text/plain": [
       "Type                                0\n",
       "Region                              0\n",
       "MunicipalityCode                    0\n",
       "Prefecture                          0\n",
       "Municipality                        0\n",
       "DistrictName                        0\n",
       "NearestStation                      0\n",
       "TimeToNearestStation                0\n",
       "MinTimeToNearestStation          8040\n",
       "MaxTimeToNearestStation          8163\n",
       "FloorPlan                           0\n",
       "Area                                0\n",
       "AreaIsGreaterFlag                   0\n",
       "UnitPrice                      259264\n",
       "PricePerTsubo                  259264\n",
       "LandShape                           0\n",
       "Frontage                       160776\n",
       "FrontageIsGreaterFlag          322793\n",
       "TotalFloorArea                 213868\n",
       "TotalFloorAreaIsGreaterFlag         0\n",
       "BuildingYear                    73682\n",
       "PrewarBuilding                      0\n",
       "Structure                           0\n",
       "Use                                 0\n",
       "Purpose                             0\n",
       "Direction                           0\n",
       "Classification                      0\n",
       "Breadth                        148963\n",
       "CityPlanning                        0\n",
       "CoverageRatio                    4633\n",
       "FloorAreaRatio                   4633\n",
       "Period                              0\n",
       "Year                                0\n",
       "Quarter                             0\n",
       "Renovation                          0\n",
       "Remarks                             0\n",
       "TradePrice                          0\n",
       "dtype: int64"
      ]
     },
     "execution_count": 95,
     "metadata": {},
     "output_type": "execute_result"
    }
   ],
   "source": [
    "df_treino.isna().sum()"
   ]
  },
  {
   "cell_type": "markdown",
   "id": "abb9aac7",
   "metadata": {},
   "source": [
    "## Análise Univariada"
   ]
  },
  {
   "cell_type": "markdown",
   "id": "a6ad7e26",
   "metadata": {},
   "source": [
    "### Type                                          "
   ]
  },
  {
   "cell_type": "code",
   "execution_count": 96,
   "id": "d718e7be",
   "metadata": {
    "ExecuteTime": {
     "end_time": "2024-11-04T23:45:21.093983Z",
     "start_time": "2024-11-04T23:45:21.075073Z"
    }
   },
   "outputs": [
    {
     "data": {
      "text/plain": [
       "Type\n",
       "Pre-owned Condominiums                 145311\n",
       "Residential Land(Land and Building)    113540\n",
       "Residential Land(Land Only)             63529\n",
       "Forest Land                               337\n",
       "Agricultural Land                          76\n",
       "Name: count, dtype: Int64"
      ]
     },
     "execution_count": 96,
     "metadata": {},
     "output_type": "execute_result"
    }
   ],
   "source": [
    "# 5 tipo de imóveis diferentes \n",
    "df_treino['Type'].value_counts()"
   ]
  },
  {
   "cell_type": "markdown",
   "id": "1179e83e",
   "metadata": {},
   "source": [
    "### Region                              "
   ]
  },
  {
   "cell_type": "code",
   "execution_count": 97,
   "id": "45c9c8a6",
   "metadata": {
    "ExecuteTime": {
     "end_time": "2024-11-04T23:45:21.125331Z",
     "start_time": "2024-11-04T23:45:21.094839Z"
    }
   },
   "outputs": [
    {
     "data": {
      "text/plain": [
       "Region\n",
       "Residential Area              157077\n",
       " etc.                         145311\n",
       "Commercial Area                18497\n",
       "Industrial Area                 1092\n",
       "                                 413\n",
       "Potential Residential Area       403\n",
       "Name: count, dtype: Int64"
      ]
     },
     "execution_count": 97,
     "metadata": {},
     "output_type": "execute_result"
    }
   ],
   "source": [
    "# existem observaçoes sem classificação aqui. \n",
    "# Vou somar estas areas em etc. e nomear para Mixed Areab\n",
    "df_treino['Region'].value_counts()"
   ]
  },
  {
   "cell_type": "code",
   "execution_count": 99,
   "id": "5fe7bf6a",
   "metadata": {
    "ExecuteTime": {
     "end_time": "2024-11-04T23:45:42.621131Z",
     "start_time": "2024-11-04T23:45:42.527546Z"
    }
   },
   "outputs": [
    {
     "data": {
      "text/plain": [
       "Region\n",
       "Residential Area              157077\n",
       " etc.                         145311\n",
       "Commercial Area                18497\n",
       "Industrial Area                 1092\n",
       "Mixed Area                       413\n",
       "Potential Residential Area       403\n",
       "Name: count, dtype: Int64"
      ]
     },
     "execution_count": 99,
     "metadata": {},
     "output_type": "execute_result"
    }
   ],
   "source": [
    "# substituir valores vazios (\"\") por \"Mixed Area\"\n",
    "df_treino['Mixed Area'] = df_treino['Region'].replace(\"\", \"Mixed Area\", inplace=True)\n",
    "df_treino['Region'].value_counts()"
   ]
  },
  {
   "cell_type": "markdown",
   "id": "33fe293d",
   "metadata": {},
   "source": [
    "### MunicipalityCode"
   ]
  },
  {
   "cell_type": "code",
   "execution_count": 100,
   "id": "14f20505",
   "metadata": {
    "ExecuteTime": {
     "end_time": "2024-11-04T23:48:29.318033Z",
     "start_time": "2024-11-04T23:48:29.303728Z"
    }
   },
   "outputs": [
    {
     "data": {
      "text/plain": [
       "59"
      ]
     },
     "execution_count": 100,
     "metadata": {},
     "output_type": "execute_result"
    }
   ],
   "source": [
    "df_treino['MunicipalityCode'].nunique()"
   ]
  },
  {
   "cell_type": "markdown",
   "id": "45615584",
   "metadata": {},
   "source": [
    "### Prefecture"
   ]
  },
  {
   "cell_type": "code",
   "execution_count": 102,
   "id": "03de93a9",
   "metadata": {
    "ExecuteTime": {
     "end_time": "2024-11-04T23:49:56.576419Z",
     "start_time": "2024-11-04T23:49:56.563902Z"
    }
   },
   "outputs": [
    {
     "data": {
      "text/plain": [
       "0         Tokyo\n",
       "1         Tokyo\n",
       "2         Tokyo\n",
       "3         Tokyo\n",
       "4         Tokyo\n",
       "          ...  \n",
       "325254    Tokyo\n",
       "325255    Tokyo\n",
       "325256    Tokyo\n",
       "325258    Tokyo\n",
       "325259    Tokyo\n",
       "Name: Prefecture, Length: 322793, dtype: string"
      ]
     },
     "execution_count": 102,
     "metadata": {},
     "output_type": "execute_result"
    }
   ],
   "source": [
    "# todas as observações são tokyo, portanto podemos tirar essa coluna do dataset\n",
    "df_treino['Prefecture']"
   ]
  },
  {
   "cell_type": "code",
   "execution_count": 107,
   "id": "2736ecd7",
   "metadata": {
    "ExecuteTime": {
     "end_time": "2024-11-04T23:51:51.927067Z",
     "start_time": "2024-11-04T23:51:51.924737Z"
    }
   },
   "outputs": [],
   "source": [
    "# Dropar a coluna 'Prefecture'\n",
    "#df_treino.drop(columns=['Prefecture'], inplace=True)\n",
    "\n",
    "# Verificar para garantir que a coluna foi removida\n",
    "#df_treino.head()\n"
   ]
  },
  {
   "cell_type": "markdown",
   "id": "6cf9bd6f",
   "metadata": {},
   "source": [
    "### Municipality"
   ]
  },
  {
   "cell_type": "code",
   "execution_count": 112,
   "id": "61de6dfa",
   "metadata": {
    "ExecuteTime": {
     "end_time": "2024-11-04T23:52:53.726332Z",
     "start_time": "2024-11-04T23:52:53.658558Z"
    }
   },
   "outputs": [
    {
     "data": {
      "text/plain": [
       "59"
      ]
     },
     "execution_count": 112,
     "metadata": {},
     "output_type": "execute_result"
    }
   ],
   "source": [
    "# 59 municípios para 59 código únicos! \n",
    "df_treino['Municipality'].nunique()"
   ]
  },
  {
   "cell_type": "markdown",
   "id": "0a35a6ee",
   "metadata": {},
   "source": [
    "### DistrictName"
   ]
  },
  {
   "cell_type": "code",
   "execution_count": 115,
   "id": "86bd0888",
   "metadata": {
    "ExecuteTime": {
     "end_time": "2024-11-05T00:46:26.436130Z",
     "start_time": "2024-11-05T00:46:26.367066Z"
    }
   },
   "outputs": [
    {
     "data": {
      "text/plain": [
       "1446"
      ]
     },
     "execution_count": 115,
     "metadata": {},
     "output_type": "execute_result"
    }
   ],
   "source": [
    "# Existem 1446 distritos únicos no dataset\n",
    "df_treino['DistrictName'].nunique()"
   ]
  },
  {
   "cell_type": "markdown",
   "id": "66a51fba",
   "metadata": {},
   "source": [
    "### NearestStation - nome da estação mais próxima dos imóveis"
   ]
  },
  {
   "cell_type": "code",
   "execution_count": 117,
   "id": "aa9b2b66",
   "metadata": {
    "ExecuteTime": {
     "end_time": "2024-11-05T00:48:22.899647Z",
     "start_time": "2024-11-05T00:48:22.742707Z"
    }
   },
   "outputs": [
    {
     "data": {
      "text/plain": [
       "NearestStation\n",
       "Hachioji           3026\n",
       "Shinkoiwa          2675\n",
       "Oizumigakuen       2638\n",
       "Kanamachi          2077\n",
       "Mitaka             1959\n",
       "                   ... \n",
       "Sakuragaoka           1\n",
       "Musashikosugi         1\n",
       "Tachikawakita         1\n",
       "Urayasu (Chiba)       1\n",
       "Yurakucho             1\n",
       "Name: count, Length: 657, dtype: Int64"
      ]
     },
     "execution_count": 117,
     "metadata": {},
     "output_type": "execute_result"
    }
   ],
   "source": [
    "df_treino['NearestStation'].nunique()\n",
    "df_treino['NearestStation'].value_counts()"
   ]
  },
  {
   "cell_type": "markdown",
   "id": "6360b76d",
   "metadata": {},
   "source": [
    "### TimeToNearestStation"
   ]
  },
  {
   "cell_type": "code",
   "execution_count": 118,
   "id": "77954c74",
   "metadata": {
    "ExecuteTime": {
     "end_time": "2024-11-05T01:13:06.687030Z",
     "start_time": "2024-11-05T01:13:06.448034Z"
    }
   },
   "outputs": [
    {
     "data": {
      "image/png": "[encoded data removed]",
      "text/plain": [
       "<Figure size 1000x600 with 1 Axes>"
      ]
     },
     "metadata": {},
     "output_type": "display_data"
    }
   ],
   "source": [
    "# o tempo mais comum é entre 4 e 9 minutos\n",
    "time_counts = df_treino['TimeToNearestStation'].value_counts().sort_index()\n",
    "\n",
    "# Criar o gráfico de barras\n",
    "plt.figure(figsize=(10, 6))\n",
    "time_counts.plot(kind='bar', color='skyblue')\n",
    "plt.xlabel('Time to Nearest Station (minutes)')\n",
    "plt.ylabel('Frequency')\n",
    "plt.title('Distribution of Time to Nearest Station')\n",
    "plt.xticks(rotation=45)\n",
    "plt.show()\n"
   ]
  },
  {
   "cell_type": "markdown",
   "id": "f9be3b81",
   "metadata": {},
   "source": [
    "### MinTimeToNearestStation & MaxTimeToNearestStation\n"
   ]
  },
  {
   "cell_type": "code",
   "execution_count": 119,
   "id": "b77f615d",
   "metadata": {
    "ExecuteTime": {
     "end_time": "2024-11-05T01:22:51.544419Z",
     "start_time": "2024-11-05T01:22:48.428323Z"
    }
   },
   "outputs": [],
   "source": [
    "# para substituir os missing values, vou usar uma média entre o menor MinTimeToNearestStation \n",
    "# e o maior MaxTimeToNearestStation para cada município.\n",
    "municipality_means = df_treino.groupby('Municipality').apply(\n",
    "    lambda x: (x['MinTimeToNearestStation'].min() + x['MaxTimeToNearestStation'].max()) / 2)\n",
    "\n",
    "# substitui  os valores nulos usando a média por município\n",
    "df_treino['MinTimeToNearestStation'] = df_treino.apply(\n",
    "    lambda row: municipality_means[row['Municipality']] if pd.isnull(row['MinTimeToNearestStation']) else row['MinTimeToNearestStation'],\n",
    "    axis=1)\n",
    "\n",
    "df_treino['MaxTimeToNearestStation'] = df_treino.apply(\n",
    "    lambda row: municipality_means[row['Municipality']] if pd.isnull(row['MaxTimeToNearestStation']) else row['MaxTimeToNearestStation'],\n",
    "    axis=1)\n"
   ]
  },
  {
   "cell_type": "markdown",
   "id": "30ba8115",
   "metadata": {},
   "source": [
    "### FloorPlan"
   ]
  },
  {
   "cell_type": "code",
   "execution_count": null,
   "id": "296c96c3",
   "metadata": {},
   "outputs": [],
   "source": []
  },
  {
   "cell_type": "markdown",
   "id": "9bf3479e",
   "metadata": {},
   "source": [
    "### Area"
   ]
  },
  {
   "cell_type": "code",
   "execution_count": null,
   "id": "59838e6c",
   "metadata": {},
   "outputs": [],
   "source": []
  },
  {
   "cell_type": "markdown",
   "id": "a4ef5cd8",
   "metadata": {},
   "source": [
    "### AreaIsGreaterFlag"
   ]
  },
  {
   "cell_type": "code",
   "execution_count": null,
   "id": "eebdb7ff",
   "metadata": {},
   "outputs": [],
   "source": []
  },
  {
   "cell_type": "markdown",
   "id": "f10e8514",
   "metadata": {},
   "source": [
    "### UnitPrice"
   ]
  },
  {
   "cell_type": "code",
   "execution_count": null,
   "id": "7099851c",
   "metadata": {},
   "outputs": [],
   "source": []
  },
  {
   "cell_type": "markdown",
   "id": "c9d56b26",
   "metadata": {},
   "source": [
    "### PricePerTsubo"
   ]
  },
  {
   "cell_type": "code",
   "execution_count": null,
   "id": "984db047",
   "metadata": {},
   "outputs": [],
   "source": []
  },
  {
   "cell_type": "markdown",
   "id": "ceaa8e94",
   "metadata": {},
   "source": [
    "### LandShape"
   ]
  },
  {
   "cell_type": "code",
   "execution_count": null,
   "id": "a790fc3c",
   "metadata": {},
   "outputs": [],
   "source": []
  },
  {
   "cell_type": "markdown",
   "id": "f086c4db",
   "metadata": {},
   "source": [
    "### Frontage"
   ]
  },
  {
   "cell_type": "code",
   "execution_count": null,
   "id": "1ec8cbaf",
   "metadata": {},
   "outputs": [],
   "source": []
  },
  {
   "cell_type": "markdown",
   "id": "421ed684",
   "metadata": {},
   "source": [
    "### FrontageIsGreaterFlag"
   ]
  },
  {
   "cell_type": "code",
   "execution_count": null,
   "id": "962990a1",
   "metadata": {},
   "outputs": [],
   "source": []
  },
  {
   "cell_type": "markdown",
   "id": "742280df",
   "metadata": {},
   "source": [
    "### TotalFloorArea"
   ]
  },
  {
   "cell_type": "code",
   "execution_count": null,
   "id": "f5dce4f3",
   "metadata": {},
   "outputs": [],
   "source": []
  },
  {
   "cell_type": "markdown",
   "id": "8c7d3aed",
   "metadata": {},
   "source": [
    "TotalFloorAreaIsGreaterFlag         0\n"
   ]
  },
  {
   "cell_type": "markdown",
   "id": "0461985f",
   "metadata": {},
   "source": [
    "BuildingYear                    73682\n"
   ]
  },
  {
   "cell_type": "markdown",
   "id": "fba2b9e0",
   "metadata": {},
   "source": [
    "PrewarBuilding                      0\n"
   ]
  },
  {
   "cell_type": "markdown",
   "id": "23a74123",
   "metadata": {},
   "source": [
    "Structure                           0\n"
   ]
  },
  {
   "cell_type": "markdown",
   "id": "945fe307",
   "metadata": {},
   "source": [
    "Use "
   ]
  },
  {
   "cell_type": "code",
   "execution_count": null,
   "id": "2f4e27d5",
   "metadata": {},
   "outputs": [],
   "source": []
  },
  {
   "cell_type": "code",
   "execution_count": null,
   "id": "41c93f0a",
   "metadata": {},
   "outputs": [],
   "source": []
  },
  {
   "cell_type": "code",
   "execution_count": null,
   "id": "87bf68ae",
   "metadata": {},
   "outputs": [],
   "source": []
  },
  {
   "cell_type": "code",
   "execution_count": 12,
   "id": "82116047",
   "metadata": {
    "ExecuteTime": {
     "end_time": "2024-11-04T19:51:50.483817Z",
     "start_time": "2024-11-04T19:51:50.431792Z"
    }
   },
   "outputs": [],
   "source": [
    "# 325260 total observations\n",
    "\n",
    "# Frontageisgreaterflag\n",
    "\n",
    "df_treino['FrontageIsGreaterFlag'] = df_treino['Frontage'].apply(lambda x: 1 if x >= 50 else 0)"
   ]
  },
  {
   "cell_type": "code",
   "execution_count": 13,
   "id": "8e42fe16",
   "metadata": {
    "ExecuteTime": {
     "end_time": "2024-11-04T19:51:50.795076Z",
     "start_time": "2024-11-04T19:51:50.484541Z"
    }
   },
   "outputs": [
    {
     "data": {
      "text/plain": [
       "Type                                0\n",
       "Region                              0\n",
       "MunicipalityCode                    0\n",
       "Prefecture                          0\n",
       "Municipality                        0\n",
       "DistrictName                        0\n",
       "NearestStation                      0\n",
       "TimeToNearestStation                0\n",
       "MinTimeToNearestStation          8040\n",
       "MaxTimeToNearestStation          8163\n",
       "FloorPlan                           0\n",
       "Area                                0\n",
       "AreaIsGreaterFlag                   0\n",
       "UnitPrice                      259264\n",
       "PricePerTsubo                  259264\n",
       "LandShape                           0\n",
       "Frontage                       160776\n",
       "FrontageIsGreaterFlag               0\n",
       "TotalFloorArea                 213868\n",
       "TotalFloorAreaIsGreaterFlag         0\n",
       "BuildingYear                    73682\n",
       "PrewarBuilding                      0\n",
       "Structure                           0\n",
       "Use                                 0\n",
       "Purpose                             0\n",
       "Direction                           0\n",
       "Classification                      0\n",
       "Breadth                        148963\n",
       "CityPlanning                        0\n",
       "CoverageRatio                    4633\n",
       "FloorAreaRatio                   4633\n",
       "Period                              0\n",
       "Year                                0\n",
       "Quarter                             0\n",
       "Renovation                          0\n",
       "Remarks                             0\n",
       "TradePrice                          0\n",
       "dtype: int64"
      ]
     },
     "execution_count": 13,
     "metadata": {},
     "output_type": "execute_result"
    }
   ],
   "source": [
    "df_treino.isna().sum()"
   ]
  },
  {
   "cell_type": "code",
   "execution_count": 14,
   "id": "494292c7-a8cb-4539-8561-a2192fe9b5da",
   "metadata": {
    "ExecuteTime": {
     "end_time": "2024-11-04T19:51:50.803976Z",
     "start_time": "2024-11-04T19:51:50.795860Z"
    }
   },
   "outputs": [
    {
     "data": {
      "text/html": [
       "<div>\n",
       "<style scoped>\n",
       "    .dataframe tbody tr th:only-of-type {\n",
       "        vertical-align: middle;\n",
       "    }\n",
       "\n",
       "    .dataframe tbody tr th {\n",
       "        vertical-align: top;\n",
       "    }\n",
       "\n",
       "    .dataframe thead th {\n",
       "        text-align: right;\n",
       "    }\n",
       "</style>\n",
       "<table border=\"1\" class=\"dataframe\">\n",
       "  <thead>\n",
       "    <tr style=\"text-align: right;\">\n",
       "      <th></th>\n",
       "      <th>Type</th>\n",
       "      <th>Region</th>\n",
       "      <th>MunicipalityCode</th>\n",
       "      <th>Prefecture</th>\n",
       "      <th>Municipality</th>\n",
       "      <th>DistrictName</th>\n",
       "      <th>NearestStation</th>\n",
       "      <th>TimeToNearestStation</th>\n",
       "      <th>MinTimeToNearestStation</th>\n",
       "      <th>MaxTimeToNearestStation</th>\n",
       "      <th>...</th>\n",
       "      <th>Breadth</th>\n",
       "      <th>CityPlanning</th>\n",
       "      <th>CoverageRatio</th>\n",
       "      <th>FloorAreaRatio</th>\n",
       "      <th>Period</th>\n",
       "      <th>Year</th>\n",
       "      <th>Quarter</th>\n",
       "      <th>Renovation</th>\n",
       "      <th>Remarks</th>\n",
       "      <th>TradePrice</th>\n",
       "    </tr>\n",
       "  </thead>\n",
       "  <tbody>\n",
       "    <tr>\n",
       "      <th>0</th>\n",
       "      <td>Pre-owned Condominiums</td>\n",
       "      <td>etc.</td>\n",
       "      <td>13103</td>\n",
       "      <td>Tokyo</td>\n",
       "      <td>Minato Ward</td>\n",
       "      <td>Kaigan</td>\n",
       "      <td>Takeshiba</td>\n",
       "      <td>1</td>\n",
       "      <td>1</td>\n",
       "      <td>1</td>\n",
       "      <td>...</td>\n",
       "      <td>NaN</td>\n",
       "      <td>Quasi-industrial Zone</td>\n",
       "      <td>60.0</td>\n",
       "      <td>400.0</td>\n",
       "      <td>1st quarter 2011</td>\n",
       "      <td>2011</td>\n",
       "      <td>1</td>\n",
       "      <td>Done</td>\n",
       "      <td></td>\n",
       "      <td>24000000</td>\n",
       "    </tr>\n",
       "    <tr>\n",
       "      <th>1</th>\n",
       "      <td>Residential Land(Land and Building)</td>\n",
       "      <td>Residential Area</td>\n",
       "      <td>13120</td>\n",
       "      <td>Tokyo</td>\n",
       "      <td>Nerima Ward</td>\n",
       "      <td>Nishiki</td>\n",
       "      <td>Kamiitabashi</td>\n",
       "      <td>15</td>\n",
       "      <td>15</td>\n",
       "      <td>15</td>\n",
       "      <td>...</td>\n",
       "      <td>4.0</td>\n",
       "      <td>Category I Exclusively Low-story Residential Zone</td>\n",
       "      <td>60.0</td>\n",
       "      <td>200.0</td>\n",
       "      <td>3rd quarter 2013</td>\n",
       "      <td>2013</td>\n",
       "      <td>3</td>\n",
       "      <td></td>\n",
       "      <td>Dealings including private road</td>\n",
       "      <td>51000000</td>\n",
       "    </tr>\n",
       "    <tr>\n",
       "      <th>2</th>\n",
       "      <td>Residential Land(Land Only)</td>\n",
       "      <td>Residential Area</td>\n",
       "      <td>13201</td>\n",
       "      <td>Tokyo</td>\n",
       "      <td>Hachioji City</td>\n",
       "      <td>Shimoongatamachi</td>\n",
       "      <td>Takao (Tokyo)</td>\n",
       "      <td>1H-1H30</td>\n",
       "      <td>60</td>\n",
       "      <td>90</td>\n",
       "      <td>...</td>\n",
       "      <td>4.5</td>\n",
       "      <td>Category I Exclusively Low-story Residential Zone</td>\n",
       "      <td>40.0</td>\n",
       "      <td>80.0</td>\n",
       "      <td>4th quarter 2007</td>\n",
       "      <td>2007</td>\n",
       "      <td>4</td>\n",
       "      <td></td>\n",
       "      <td></td>\n",
       "      <td>14000000</td>\n",
       "    </tr>\n",
       "    <tr>\n",
       "      <th>3</th>\n",
       "      <td>Pre-owned Condominiums</td>\n",
       "      <td>etc.</td>\n",
       "      <td>13208</td>\n",
       "      <td>Tokyo</td>\n",
       "      <td>Chofu City</td>\n",
       "      <td>Kamiishiwara</td>\n",
       "      <td>Nishichofu</td>\n",
       "      <td>16</td>\n",
       "      <td>16</td>\n",
       "      <td>16</td>\n",
       "      <td>...</td>\n",
       "      <td>NaN</td>\n",
       "      <td>Quasi-industrial Zone</td>\n",
       "      <td>60.0</td>\n",
       "      <td>200.0</td>\n",
       "      <td>2nd quarter 2015</td>\n",
       "      <td>2015</td>\n",
       "      <td>2</td>\n",
       "      <td>Not yet</td>\n",
       "      <td></td>\n",
       "      <td>23000000</td>\n",
       "    </tr>\n",
       "    <tr>\n",
       "      <th>4</th>\n",
       "      <td>Residential Land(Land Only)</td>\n",
       "      <td>Residential Area</td>\n",
       "      <td>13117</td>\n",
       "      <td>Tokyo</td>\n",
       "      <td>Kita Ward</td>\n",
       "      <td>Shimo</td>\n",
       "      <td>Shimo</td>\n",
       "      <td>6</td>\n",
       "      <td>6</td>\n",
       "      <td>6</td>\n",
       "      <td>...</td>\n",
       "      <td>4.5</td>\n",
       "      <td>Category I Exclusively Medium-high Residential...</td>\n",
       "      <td>60.0</td>\n",
       "      <td>200.0</td>\n",
       "      <td>4th quarter 2015</td>\n",
       "      <td>2015</td>\n",
       "      <td>4</td>\n",
       "      <td></td>\n",
       "      <td></td>\n",
       "      <td>33000000</td>\n",
       "    </tr>\n",
       "  </tbody>\n",
       "</table>\n",
       "<p>5 rows × 37 columns</p>\n",
       "</div>"
      ],
      "text/plain": [
       "                                  Type            Region  MunicipalityCode  \\\n",
       "0               Pre-owned Condominiums              etc.             13103   \n",
       "1  Residential Land(Land and Building)  Residential Area             13120   \n",
       "2          Residential Land(Land Only)  Residential Area             13201   \n",
       "3               Pre-owned Condominiums              etc.             13208   \n",
       "4          Residential Land(Land Only)  Residential Area             13117   \n",
       "\n",
       "  Prefecture   Municipality      DistrictName NearestStation  \\\n",
       "0      Tokyo    Minato Ward            Kaigan      Takeshiba   \n",
       "1      Tokyo    Nerima Ward           Nishiki   Kamiitabashi   \n",
       "2      Tokyo  Hachioji City  Shimoongatamachi  Takao (Tokyo)   \n",
       "3      Tokyo     Chofu City      Kamiishiwara     Nishichofu   \n",
       "4      Tokyo      Kita Ward             Shimo          Shimo   \n",
       "\n",
       "  TimeToNearestStation  MinTimeToNearestStation  MaxTimeToNearestStation  ...  \\\n",
       "0                    1                        1                        1  ...   \n",
       "1                   15                       15                       15  ...   \n",
       "2              1H-1H30                       60                       90  ...   \n",
       "3                   16                       16                       16  ...   \n",
       "4                    6                        6                        6  ...   \n",
       "\n",
       "  Breadth                                       CityPlanning  CoverageRatio  \\\n",
       "0     NaN                              Quasi-industrial Zone           60.0   \n",
       "1     4.0  Category I Exclusively Low-story Residential Zone           60.0   \n",
       "2     4.5  Category I Exclusively Low-story Residential Zone           40.0   \n",
       "3     NaN                              Quasi-industrial Zone           60.0   \n",
       "4     4.5  Category I Exclusively Medium-high Residential...           60.0   \n",
       "\n",
       "   FloorAreaRatio            Period  Year  Quarter  Renovation  \\\n",
       "0           400.0  1st quarter 2011  2011        1        Done   \n",
       "1           200.0  3rd quarter 2013  2013        3               \n",
       "2            80.0  4th quarter 2007  2007        4               \n",
       "3           200.0  2nd quarter 2015  2015        2     Not yet   \n",
       "4           200.0  4th quarter 2015  2015        4               \n",
       "\n",
       "                           Remarks  TradePrice  \n",
       "0                                     24000000  \n",
       "1  Dealings including private road    51000000  \n",
       "2                                     14000000  \n",
       "3                                     23000000  \n",
       "4                                     33000000  \n",
       "\n",
       "[5 rows x 37 columns]"
      ]
     },
     "execution_count": 14,
     "metadata": {},
     "output_type": "execute_result"
    }
   ],
   "source": [
    "df_treino.head()"
   ]
  },
  {
   "cell_type": "code",
   "execution_count": 15,
   "id": "8fd8a448-1864-4b1f-8d2f-c03b8d3f014e",
   "metadata": {
    "ExecuteTime": {
     "end_time": "2024-11-04T19:51:50.805957Z",
     "start_time": "2024-11-04T19:51:50.804760Z"
    }
   },
   "outputs": [],
   "source": [
    "# Beadth\n",
    "\n",
    "\n"
   ]
  },
  {
   "cell_type": "markdown",
   "id": "e3729ea1",
   "metadata": {
    "heading_collapsed": true
   },
   "source": [
    "### Breadth - Largura da via em frente (m)"
   ]
  },
  {
   "cell_type": "code",
   "execution_count": 16,
   "id": "7f500d10-5f5c-4129-bd4c-1d6fedb08a48",
   "metadata": {
    "ExecuteTime": {
     "end_time": "2024-11-04T19:51:50.897113Z",
     "start_time": "2024-11-04T19:51:50.815761Z"
    },
    "hidden": true
   },
   "outputs": [
    {
     "name": "stdout",
     "output_type": "stream",
     "text": [
      "A média do Breadth é 6.24812805614681\n",
      "A mediana do Breadth é 5.0\n",
      "                                        mean  median\n",
      "Municipality                                        \n",
      "Adachi Ward                         6.650403    5.50\n",
      "Akiruno City                        5.902284    5.00\n",
      "Akishima City                       6.136192    5.00\n",
      "Arakawa Ward                        6.008068    4.00\n",
      "Bunkyo Ward                         6.687080    4.00\n",
      "Chiyoda Ward                       12.635233    8.00\n",
      "Chofu City                          5.459796    4.50\n",
      "Chuo Ward                          12.218202   10.00\n",
      "Edogawa Ward                        6.767071    5.40\n",
      "Fuchu City                          6.003664    5.00\n",
      "Fussa City                          6.996883    6.00\n",
      "Hachijo Town                        5.671282    5.00\n",
      "Hachioji City                       6.470117    6.00\n",
      "Hamura City                         6.928620    6.00\n",
      "Higashikurume City                  5.679418    5.00\n",
      "Higashimurayama City                5.361638    5.00\n",
      "Higashiyamato City                  6.220768    5.00\n",
      "Hino City                           6.487367    6.00\n",
      "Hinode Town,Nishitama County        6.347429    5.00\n",
      "Hinohara Village,Nishitama County   4.287500    3.95\n",
      "Inagi City                          6.869931    6.00\n",
      "Itabashi Ward                       6.463066    4.50\n",
      "Katsushika Ward                     6.601091    5.60\n",
      "Kita Ward                           6.093283    4.00\n",
      "Kiyose City                         5.731501    5.00\n",
      "Kodaira City                        5.518701    5.00\n",
      "Koganei City                        5.415210    4.35\n",
      "Kokubunji City                      5.207711    4.50\n",
      "Komae City                          5.252795    4.50\n",
      "Koto Ward                           8.883315    6.00\n",
      "Kozushima Village                   3.625000    4.00\n",
      "Kunitachi City                      6.140490    5.40\n",
      "Machida City                        6.243822    5.00\n",
      "Meguro Ward                         5.738516    4.50\n",
      "Minato Ward                         9.913300    5.70\n",
      "Mitaka City                         5.349980    4.30\n",
      "Miyake Village                      7.019565    7.00\n",
      "Mizuho Town,Nishitama County        6.821902    5.95\n",
      "Musashimurayama City                5.695088    5.00\n",
      "Musashino City                      5.746508    4.00\n",
      "Nakano Ward                         5.090999    4.00\n",
      "Nerima Ward                         5.540050    5.00\n",
      "Niijima Village                     4.652174    4.50\n",
      "Nishitokyo City                     5.300628    4.50\n",
      "Ogasawara Village                   6.803030    5.50\n",
      "Okutama Town,Nishitama County       4.736232    4.00\n",
      "Oshima Town                         5.799134    5.00\n",
      "Ota Ward                            6.071407    5.00\n",
      "Oume City                           6.423296    5.00\n",
      "Setagaya Ward                       5.659917    4.60\n",
      "Shibuya Ward                        6.684178    4.00\n",
      "Shinagawa Ward                      5.632877    4.00\n",
      "Shinjuku Ward                       6.720735    4.00\n",
      "Suginami Ward                       5.215476    4.00\n",
      "Sumida Ward                         7.800914    5.10\n",
      "Tachikawa City                      5.988118    5.00\n",
      "Taito Ward                          9.682587    6.00\n",
      "Tama City                           7.342267    6.00\n",
      "Toshima Ward                        5.678815    4.00\n"
     ]
    }
   ],
   "source": [
    "# Calcula a média e a mediana de 'breadth' por 'Municipality'\n",
    "print(f\"A média do Breadth é {df_treino['Breadth'].mean()}\")\n",
    "print(f\"A mediana do Breadth é {df_treino['Breadth'].median()}\")\n",
    "\n",
    "media_mediana_por_municipio = df_treino.groupby('Municipality')['Breadth'].agg(['mean', 'median'])\n",
    "\n",
    "# Exibe o resultado\n",
    "print(media_mediana_por_municipio)\n"
   ]
  },
  {
   "cell_type": "code",
   "execution_count": 17,
   "id": "a1a86f5d-1b46-4ce9-9c2f-c30fdc37c770",
   "metadata": {
    "ExecuteTime": {
     "end_time": "2024-11-04T19:51:50.993742Z",
     "start_time": "2024-11-04T19:51:50.897851Z"
    },
    "hidden": true
   },
   "outputs": [],
   "source": [
    "# Substitui os valores nulos na coluna 'breadth' pela média do município correspondente\n",
    "df_treino['Breadth'] = df_treino.groupby('Municipality')['Breadth'].transform(lambda x: x.fillna(x.mean()))\n"
   ]
  },
  {
   "cell_type": "code",
   "execution_count": 18,
   "id": "68fa4e56-d4fb-40eb-a7bd-7c364dea884e",
   "metadata": {
    "ExecuteTime": {
     "end_time": "2024-11-04T19:51:51.000205Z",
     "start_time": "2024-11-04T19:51:50.994472Z"
    },
    "hidden": true
   },
   "outputs": [
    {
     "name": "stdout",
     "output_type": "stream",
     "text": [
      "6.580032855892617\n",
      "6.0\n"
     ]
    }
   ],
   "source": [
    "print(df_treino['Breadth'].mean())\n",
    "# ou\n",
    "print(df_treino['Breadth'].median())\n"
   ]
  },
  {
   "cell_type": "markdown",
   "id": "126153a2",
   "metadata": {
    "heading_collapsed": true
   },
   "source": [
    "### Coverage Ratio - Percentual máximo de cobertura do edifício (%)"
   ]
  },
  {
   "cell_type": "code",
   "execution_count": 19,
   "id": "47a41527-296d-4841-8ee4-95fc999e65f3",
   "metadata": {
    "ExecuteTime": {
     "end_time": "2024-11-04T19:51:51.075371Z",
     "start_time": "2024-11-04T19:51:51.001049Z"
    },
    "hidden": true
   },
   "outputs": [
    {
     "name": "stdout",
     "output_type": "stream",
     "text": [
      "A média do CoverageRatio é 62.08568016092532\n",
      "A mediana do CoverageRatio é 60.0\n",
      "                                        mean  median\n",
      "Municipality                                        \n",
      "Adachi Ward                        62.807703    60.0\n",
      "Akiruno City                       46.088398    40.0\n",
      "Akishima City                      53.682540    60.0\n",
      "Arakawa Ward                       74.541042    80.0\n",
      "Bunkyo Ward                        71.269354    80.0\n",
      "Chiyoda Ward                       77.963462    80.0\n",
      "Chofu City                         52.747551    50.0\n",
      "Chuo Ward                          77.357143    80.0\n",
      "Edogawa Ward                       62.256559    60.0\n",
      "Fuchu City                         55.684231    60.0\n",
      "Fussa City                         57.417085    60.0\n",
      "Hachijo Town                       69.347826    70.0\n",
      "Hachioji City                      52.547259    50.0\n",
      "Hamura City                        55.110497    60.0\n",
      "Higashikurume City                 48.831993    40.0\n",
      "Higashimurayama City               50.713359    40.0\n",
      "Higashiyamato City                 51.304878    50.0\n",
      "Hino City                          49.654531    50.0\n",
      "Hinode Town,Nishitama County       45.482955    40.0\n",
      "Hinohara Village,Nishitama County        NaN     NaN\n",
      "Inagi City                         51.605330    50.0\n",
      "Itabashi Ward                      64.235313    60.0\n",
      "Katsushika Ward                    61.323441    60.0\n",
      "Kita Ward                          68.213157    60.0\n",
      "Kiyose City                        55.827489    50.0\n",
      "Kodaira City                       48.360374    40.0\n",
      "Koganei City                       51.324086    50.0\n",
      "Kokubunji City                     52.007394    50.0\n",
      "Komae City                         49.909256    40.0\n",
      "Koto Ward                          64.195178    60.0\n",
      "Kozushima Village                  70.000000    70.0\n",
      "Kunitachi City                     56.900937    60.0\n",
      "Machida City                       48.225491    40.0\n",
      "Meguro Ward                        63.985114    60.0\n",
      "Minato Ward                        69.975543    60.0\n",
      "Mitaka City                        49.343066    40.0\n",
      "Miyake Village                     69.454545    70.0\n",
      "Mizuho Town,Nishitama County       49.280677    50.0\n",
      "Musashimurayama City               45.636875    40.0\n",
      "Musashino City                     56.808134    60.0\n",
      "Nakano Ward                        65.754111    60.0\n",
      "Nerima Ward                        58.555530    60.0\n",
      "Niijima Village                    70.000000    70.0\n",
      "Nishitokyo City                    52.890625    50.0\n",
      "Ogasawara Village                  69.000000    70.0\n",
      "Okutama Town,Nishitama County            NaN     NaN\n",
      "Oshima Town                        68.333333    70.0\n",
      "Ota Ward                           63.483994    60.0\n",
      "Oume City                          58.124196    60.0\n",
      "Setagaya Ward                      59.379390    60.0\n",
      "Shibuya Ward                       68.346644    60.0\n",
      "Shinagawa Ward                     67.565974    60.0\n",
      "Shinjuku Ward                      69.917220    80.0\n",
      "Suginami Ward                      59.914314    60.0\n",
      "Sumida Ward                        75.060632    80.0\n",
      "Tachikawa City                     54.800988    60.0\n",
      "Taito Ward                         79.106591    80.0\n",
      "Tama City                          57.141742    60.0\n",
      "Toshima Ward                       70.383787    80.0\n"
     ]
    }
   ],
   "source": [
    "# Calcula a média e a mediana de 'CoverageRatio' por 'Municipality'\n",
    "media_mediana_coverageratio = df_treino.groupby('Municipality')['CoverageRatio'].agg(['mean', 'median'])\n",
    "\n",
    "print(f\"A média do CoverageRatio é {df_treino['CoverageRatio'].mean()}\")\n",
    "print(f\"A mediana do CoverageRatio é {df_treino['CoverageRatio'].median()}\")\n",
    "\n",
    "# Exibe o resultado\n",
    "print(media_mediana_coverageratio)"
   ]
  },
  {
   "cell_type": "code",
   "execution_count": 20,
   "id": "e243a699",
   "metadata": {
    "ExecuteTime": {
     "end_time": "2024-11-04T19:51:51.186042Z",
     "start_time": "2024-11-04T19:51:51.076106Z"
    },
    "hidden": true
   },
   "outputs": [],
   "source": [
    "df_treino['CoverageRatio'] = df_treino.groupby('Municipality')['CoverageRatio'].transform(lambda x: x.fillna(x.mean()))"
   ]
  },
  {
   "cell_type": "markdown",
   "id": "1b6028e5",
   "metadata": {
    "heading_collapsed": true
   },
   "source": [
    "### Floor Area Ratio"
   ]
  },
  {
   "cell_type": "code",
   "execution_count": 21,
   "id": "23d10e58-e14e-40ac-9c6b-8c182b5fa13d",
   "metadata": {
    "ExecuteTime": {
     "end_time": "2024-11-04T19:51:51.260953Z",
     "start_time": "2024-11-04T19:51:51.186892Z"
    },
    "hidden": true
   },
   "outputs": [
    {
     "name": "stdout",
     "output_type": "stream",
     "text": [
      "A média do FloorAreaRatio é 264.73563615790795\n",
      "A mediana do FloorAreaRatio é 200.0\n",
      "                                         mean  median\n",
      "Municipality                                         \n",
      "Adachi Ward                        256.147889   200.0\n",
      "Akiruno City                       102.889503    80.0\n",
      "Akishima City                      160.181406   200.0\n",
      "Arakawa Ward                       371.755645   300.0\n",
      "Bunkyo Ward                        415.416444   400.0\n",
      "Chiyoda Ward                       576.609763   600.0\n",
      "Chofu City                         157.435897   100.0\n",
      "Chuo Ward                          551.481481   500.0\n",
      "Edogawa Ward                       249.044726   200.0\n",
      "Fuchu City                         185.107122   200.0\n",
      "Fussa City                         186.964824   200.0\n",
      "Hachijo Town                       200.543478   200.0\n",
      "Hachioji City                      167.610703   150.0\n",
      "Hamura City                        168.462247   200.0\n",
      "Higashikurume City                 129.885738    80.0\n",
      "Higashimurayama City               144.588197    80.0\n",
      "Higashiyamato City                 133.463415   100.0\n",
      "Hino City                          124.621313   100.0\n",
      "Hinode Town,Nishitama County       105.085227    80.0\n",
      "Hinohara Village,Nishitama County         NaN     NaN\n",
      "Inagi City                         148.077411   150.0\n",
      "Itabashi Ward                      264.290338   200.0\n",
      "Katsushika Ward                    235.897333   200.0\n",
      "Kita Ward                          305.584826   300.0\n",
      "Kiyose City                        155.974755   100.0\n",
      "Kodaira City                       130.176991    80.0\n",
      "Koganei City                       147.183691    80.0\n",
      "Kokubunji City                     146.192237    80.0\n",
      "Komae City                         137.931034    80.0\n",
      "Koto Ward                          344.792590   300.0\n",
      "Kozushima Village                  200.000000   200.0\n",
      "Kunitachi City                     185.890228   150.0\n",
      "Machida City                       125.520055    80.0\n",
      "Meguro Ward                        248.826175   200.0\n",
      "Minato Ward                        441.806787   400.0\n",
      "Mitaka City                        140.340633    80.0\n",
      "Miyake Village                     200.000000   200.0\n",
      "Mizuho Town,Nishitama County       123.102962   100.0\n",
      "Musashimurayama City               112.399719    80.0\n",
      "Musashino City                     197.409372   200.0\n",
      "Nakano Ward                        249.358941   200.0\n",
      "Nerima Ward                        190.124415   200.0\n",
      "Niijima Village                    200.000000   200.0\n",
      "Nishitokyo City                    152.442036   100.0\n",
      "Ogasawara Village                  200.000000   200.0\n",
      "Okutama Town,Nishitama County             NaN     NaN\n",
      "Oshima Town                        214.496124   200.0\n",
      "Ota Ward                           248.822839   200.0\n",
      "Oume City                          182.979408   200.0\n",
      "Setagaya Ward                      189.356298   200.0\n",
      "Shibuya Ward                       369.840269   300.0\n",
      "Shinagawa Ward                     338.698297   300.0\n",
      "Shinjuku Ward                      413.665969   400.0\n",
      "Suginami Ward                      197.656272   150.0\n",
      "Sumida Ward                        363.190919   300.0\n",
      "Tachikawa City                     183.892396   200.0\n",
      "Taito Ward                         534.401953   500.0\n",
      "Tama City                          194.658337   200.0\n",
      "Toshima Ward                       391.158961   400.0\n"
     ]
    }
   ],
   "source": [
    "# Calcula a média e a mediana de 'FloorAreaRatio' por 'Municipality'\n",
    "media_mediana_FloorAreaRatio = df_treino.groupby('Municipality')['FloorAreaRatio'].agg(['mean', 'median'])\n",
    "\n",
    "print(f\"A média do FloorAreaRatio é {df_treino['FloorAreaRatio'].mean()}\")\n",
    "print(f\"A mediana do FloorAreaRatio é {df_treino['FloorAreaRatio'].median()}\")\n",
    "\n",
    "# Exibe o resultado\n",
    "print(media_mediana_FloorAreaRatio)"
   ]
  },
  {
   "cell_type": "code",
   "execution_count": 22,
   "id": "206495bb-9901-4021-b143-7307d2f83467",
   "metadata": {
    "ExecuteTime": {
     "end_time": "2024-11-04T19:51:51.354188Z",
     "start_time": "2024-11-04T19:51:51.261633Z"
    },
    "hidden": true
   },
   "outputs": [],
   "source": [
    "df_treino['FloorAreaRatio'] = df_treino.groupby('Municipality')['FloorAreaRatio'].transform(lambda x: x.fillna(x.mean()))"
   ]
  },
  {
   "cell_type": "markdown",
   "id": "717d4c14",
   "metadata": {
    "heading_collapsed": true
   },
   "source": [
    "### UnitPrice - preço por Unidade de Área (Yen/m2)"
   ]
  },
  {
   "cell_type": "code",
   "execution_count": 23,
   "id": "47030cbe",
   "metadata": {
    "ExecuteTime": {
     "end_time": "2024-11-04T19:51:51.451105Z",
     "start_time": "2024-11-04T19:51:51.355027Z"
    },
    "hidden": true,
    "scrolled": false
   },
   "outputs": [
    {
     "name": "stdout",
     "output_type": "stream",
     "text": [
      "A média do UnitPrice é 425948.76028270554\n",
      "A mediana do UnitPrice é 340000.0\n",
      "                                           mean     median\n",
      "Municipality                                              \n",
      "Adachi Ward                        2.625393e+05   240000.0\n",
      "Akiruno City                       8.953131e+04    90000.0\n",
      "Akishima City                      1.829932e+05   180000.0\n",
      "Arakawa Ward                       4.033056e+05   370000.0\n",
      "Bunkyo Ward                        7.924288e+05   760000.0\n",
      "Chiyoda Ward                       2.019204e+06  1600000.0\n",
      "Chofu City                         3.370790e+05   320000.0\n",
      "Chuo Ward                          2.034217e+06  1300000.0\n",
      "Edogawa Ward                       3.107808e+05   300000.0\n",
      "Fuchu City                         2.839057e+05   270000.0\n",
      "Fussa City                         1.608542e+05   160000.0\n",
      "Hachijo Town                       6.024014e+03     4450.0\n",
      "Hachioji City                      1.325487e+05   120000.0\n",
      "Hamura City                        1.532178e+05   150000.0\n",
      "Higashikurume City                 2.123008e+05   210000.0\n",
      "Higashimurayama City               1.843038e+05   180000.0\n",
      "Higashiyamato City                 1.646903e+05   160000.0\n",
      "Hino City                          1.910081e+05   190000.0\n",
      "Hinode Town,Nishitama County       8.225888e+04    76000.0\n",
      "Hinohara Village,Nishitama County  1.800000e+04    16500.0\n",
      "Inagi City                         2.063251e+05   210000.0\n",
      "Itabashi Ward                      3.840932e+05   360000.0\n",
      "Katsushika Ward                    2.923997e+05   280000.0\n",
      "Kita Ward                          4.393710e+05   390000.0\n",
      "Kiyose City                        1.864933e+05   190000.0\n",
      "Kodaira City                       2.327103e+05   220000.0\n",
      "Koganei City                       3.090592e+05   310000.0\n",
      "Kokubunji City                     2.710156e+05   250000.0\n",
      "Komae City                         2.927230e+05   290000.0\n",
      "Koto Ward                          5.202221e+05   470000.0\n",
      "Kozushima Village                  6.422222e+03     4000.0\n",
      "Kunitachi City                     3.183888e+05   310000.0\n",
      "Machida City                       1.565601e+05   150000.0\n",
      "Meguro Ward                        7.598267e+05   750000.0\n",
      "Minato Ward                        1.930089e+06  1300000.0\n",
      "Mitaka City                        3.478613e+05   320000.0\n",
      "Miyake Village                     4.569667e+03     3000.0\n",
      "Mizuho Town,Nishitama County       7.662688e+04    79500.0\n",
      "Musashimurayama City               1.164304e+05   120000.0\n",
      "Musashino City                     5.086040e+05   470000.0\n",
      "Nakano Ward                        5.141809e+05   480000.0\n",
      "Nerima Ward                        3.688542e+05   360000.0\n",
      "Niijima Village                    9.107143e+03     6250.0\n",
      "Nishitokyo City                    2.772952e+05   280000.0\n",
      "Ogasawara Village                  2.918781e+04    24000.0\n",
      "Okutama Town,Nishitama County      1.702273e+04    16000.0\n",
      "Oshima Town                        9.991448e+03     8500.0\n",
      "Ota Ward                           5.137374e+05   490000.0\n",
      "Oume City                          1.016869e+05    94000.0\n",
      "Setagaya Ward                      5.859376e+05   580000.0\n",
      "Shibuya Ward                       1.185302e+06   910000.0\n",
      "Shinagawa Ward                     6.600818e+05   640000.0\n",
      "Shinjuku Ward                      8.052057e+05   670000.0\n",
      "Suginami Ward                      5.024877e+05   490000.0\n",
      "Sumida Ward                        5.019126e+05   420000.0\n",
      "Tachikawa City                     2.443870e+05   210000.0\n",
      "Taito Ward                         7.782483e+05   640000.0\n",
      "Tama City                          1.838652e+05   180000.0\n",
      "Toshima Ward                       6.118056e+05   540000.0\n"
     ]
    }
   ],
   "source": [
    "# Calcula a média e a mediana de 'FloorAreaRatio' por 'Municipality'\n",
    "media_mediana_UnitPrice = df_treino.groupby('Municipality')['UnitPrice'].agg(['mean', 'median'])\n",
    "\n",
    "print(f\"A média do UnitPrice é {df_treino['UnitPrice'].mean()}\")\n",
    "print(f\"A mediana do UnitPrice é {df_treino['UnitPrice'].median()}\")\n",
    "\n",
    "# Exibe o resultado\n",
    "print(media_mediana_UnitPrice)"
   ]
  },
  {
   "cell_type": "code",
   "execution_count": 24,
   "id": "7d7840f0",
   "metadata": {
    "ExecuteTime": {
     "end_time": "2024-11-04T19:51:51.549951Z",
     "start_time": "2024-11-04T19:51:51.452157Z"
    },
    "hidden": true
   },
   "outputs": [],
   "source": [
    "df_treino['UnitPrice'] = df_treino.groupby('Municipality')['UnitPrice'].transform(lambda x: x.fillna(x.mean()))"
   ]
  },
  {
   "cell_type": "markdown",
   "id": "af83cb8c",
   "metadata": {
    "heading_collapsed": true
   },
   "source": [
    "### Price per Tsubo"
   ]
  },
  {
   "cell_type": "code",
   "execution_count": 25,
   "id": "e7ceff41",
   "metadata": {
    "ExecuteTime": {
     "end_time": "2024-11-04T19:51:51.625397Z",
     "start_time": "2024-11-04T19:51:51.550719Z"
    },
    "hidden": true
   },
   "outputs": [
    {
     "name": "stdout",
     "output_type": "stream",
     "text": [
      "A média do PricePerTsubo é 1407764.9616080844\n",
      "A mediana do PricePerTsubo é 1100000.0\n",
      "                                           mean     median\n",
      "Municipality                                              \n",
      "Adachi Ward                        8.676866e+05   800000.0\n",
      "Akiruno City                       2.959576e+05   300000.0\n",
      "Akishima City                      6.043810e+05   590000.0\n",
      "Arakawa Ward                       1.331287e+06  1200000.0\n",
      "Bunkyo Ward                        2.618034e+06  2500000.0\n",
      "Chiyoda Ward                       6.681157e+06  5400000.0\n",
      "Chofu City                         1.113547e+06  1000000.0\n",
      "Chuo Ward                          6.710271e+06  4200000.0\n",
      "Edogawa Ward                       1.026814e+06  1000000.0\n",
      "Fuchu City                         9.392361e+05   900000.0\n",
      "Fussa City                         5.327188e+05   535000.0\n",
      "Hachijo Town                       1.992630e+04    14500.0\n",
      "Hachioji City                      4.384522e+05   400000.0\n",
      "Hamura City                        5.067251e+05   500000.0\n",
      "Higashikurume City                 7.017067e+05   680000.0\n",
      "Higashimurayama City               6.085465e+05   580000.0\n",
      "Higashiyamato City                 5.443718e+05   530000.0\n",
      "Hino City                          6.317162e+05   640000.0\n",
      "Hinode Town,Nishitama County       2.711421e+05   250000.0\n",
      "Hinohara Village,Nishitama County  5.978750e+04    54500.0\n",
      "Inagi City                         6.820042e+05   700000.0\n",
      "Itabashi Ward                      1.269395e+06  1200000.0\n",
      "Katsushika Ward                    9.655058e+05   920000.0\n",
      "Kita Ward                          1.451374e+06  1300000.0\n",
      "Kiyose City                        6.158598e+05   620000.0\n",
      "Kodaira City                       7.693826e+05   740000.0\n",
      "Koganei City                       1.021919e+06  1000000.0\n",
      "Kokubunji City                     8.976258e+05   830000.0\n",
      "Komae City                         9.681274e+05   960000.0\n",
      "Koto Ward                          1.718150e+06  1600000.0\n",
      "Kozushima Village                  2.110000e+04    13000.0\n",
      "Kunitachi City                     1.052106e+06  1000000.0\n",
      "Machida City                       5.173448e+05   510000.0\n",
      "Meguro Ward                        2.511808e+06  2500000.0\n",
      "Minato Ward                        6.384314e+06  4400000.0\n",
      "Mitaka City                        1.148540e+06  1100000.0\n",
      "Miyake Village                     1.503133e+04     9950.0\n",
      "Mizuho Town,Nishitama County       2.532469e+05   260000.0\n",
      "Musashimurayama City               3.844807e+05   390000.0\n",
      "Musashino City                     1.680093e+06  1500000.0\n",
      "Nakano Ward                        1.699005e+06  1600000.0\n",
      "Nerima Ward                        1.218894e+06  1200000.0\n",
      "Niijima Village                    3.033571e+04    20500.0\n",
      "Nishitokyo City                    9.156700e+05   910000.0\n",
      "Ogasawara Village                  9.753750e+04    79500.0\n",
      "Okutama Town,Nishitama County      5.635455e+04    51500.0\n",
      "Oshima Town                        3.299340e+04    28000.0\n",
      "Ota Ward                           1.698042e+06  1600000.0\n",
      "Oume City                          3.359441e+05   310000.0\n",
      "Setagaya Ward                      1.936683e+06  1900000.0\n",
      "Shibuya Ward                       3.918409e+06  3000000.0\n",
      "Shinagawa Ward                     2.182556e+06  2100000.0\n",
      "Shinjuku Ward                      2.662330e+06  2200000.0\n",
      "Suginami Ward                      1.660251e+06  1600000.0\n",
      "Sumida Ward                        1.659903e+06  1400000.0\n",
      "Tachikawa City                     8.088392e+05   710000.0\n",
      "Taito Ward                         2.573197e+06  2100000.0\n",
      "Tama City                          6.092963e+05   590000.0\n",
      "Toshima Ward                       2.021992e+06  1800000.0\n"
     ]
    }
   ],
   "source": [
    "# Calcula a média e a mediana de 'FloorAreaRatio' por 'Municipality'\n",
    "media_mediana_PriceperTsubo = df_treino.groupby('Municipality')['PricePerTsubo'].agg(['mean', 'median'])\n",
    "\n",
    "print(f\"A média do PricePerTsubo é {df_treino['PricePerTsubo'].mean()}\")\n",
    "print(f\"A mediana do PricePerTsubo é {df_treino['PricePerTsubo'].median()}\")\n",
    "\n",
    "# Exibe o resultado\n",
    "print(media_mediana_PriceperTsubo)"
   ]
  },
  {
   "cell_type": "code",
   "execution_count": 26,
   "id": "6565edf9",
   "metadata": {
    "ExecuteTime": {
     "end_time": "2024-11-04T19:51:51.717169Z",
     "start_time": "2024-11-04T19:51:51.626159Z"
    },
    "hidden": true
   },
   "outputs": [],
   "source": [
    "df_treino['PricePerTsubo'] = df_treino.groupby('Municipality')['PricePerTsubo'].transform(lambda x: x.fillna(x.mean()))"
   ]
  },
  {
   "cell_type": "code",
   "execution_count": 27,
   "id": "b8011f08",
   "metadata": {
    "ExecuteTime": {
     "end_time": "2024-11-04T19:51:52.004367Z",
     "start_time": "2024-11-04T19:51:51.717872Z"
    },
    "hidden": true
   },
   "outputs": [
    {
     "data": {
      "text/plain": [
       "Type                                0\n",
       "Region                              0\n",
       "MunicipalityCode                    0\n",
       "Prefecture                          0\n",
       "Municipality                        0\n",
       "DistrictName                        0\n",
       "NearestStation                      0\n",
       "TimeToNearestStation                0\n",
       "MinTimeToNearestStation          8040\n",
       "MaxTimeToNearestStation          8163\n",
       "FloorPlan                           0\n",
       "Area                                0\n",
       "AreaIsGreaterFlag                   0\n",
       "UnitPrice                           0\n",
       "PricePerTsubo                       0\n",
       "LandShape                           0\n",
       "Frontage                       160776\n",
       "FrontageIsGreaterFlag               0\n",
       "TotalFloorArea                 213868\n",
       "TotalFloorAreaIsGreaterFlag         0\n",
       "BuildingYear                    73682\n",
       "PrewarBuilding                      0\n",
       "Structure                           0\n",
       "Use                                 0\n",
       "Purpose                             0\n",
       "Direction                           0\n",
       "Classification                      0\n",
       "Breadth                             0\n",
       "CityPlanning                        0\n",
       "CoverageRatio                     170\n",
       "FloorAreaRatio                    170\n",
       "Period                              0\n",
       "Year                                0\n",
       "Quarter                             0\n",
       "Renovation                          0\n",
       "Remarks                             0\n",
       "TradePrice                          0\n",
       "dtype: int64"
      ]
     },
     "execution_count": 27,
     "metadata": {},
     "output_type": "execute_result"
    }
   ],
   "source": [
    "df_treino.isna().sum()"
   ]
  },
  {
   "cell_type": "markdown",
   "id": "544d673b",
   "metadata": {},
   "source": [
    "### MinTimeToNearestStation & MinTimeToNearestStation"
   ]
  },
  {
   "cell_type": "code",
   "execution_count": 28,
   "id": "c74ebff0",
   "metadata": {
    "ExecuteTime": {
     "end_time": "2024-11-04T19:51:54.937282Z",
     "start_time": "2024-11-04T19:51:52.007660Z"
    }
   },
   "outputs": [],
   "source": []
  },
  {
   "cell_type": "markdown",
   "id": "a217e471",
   "metadata": {
    "heading_collapsed": true
   },
   "source": [
    "### Frontage - Área da fachada em m2"
   ]
  },
  {
   "cell_type": "code",
   "execution_count": 29,
   "id": "a55f8e3d",
   "metadata": {
    "ExecuteTime": {
     "end_time": "2024-11-04T19:51:54.945390Z",
     "start_time": "2024-11-04T19:51:54.937929Z"
    },
    "hidden": true
   },
   "outputs": [
    {
     "name": "stdout",
     "output_type": "stream",
     "text": [
      "A média do Frontage é 9.630813433158245\n",
      "A mediana do Frontage é 8.0\n",
      "O tamanho mínimo do Frontage é 0.5\n",
      "O tamanho máximo do Frontage é 50.0\n"
     ]
    }
   ],
   "source": [
    "print(f\"A média do Frontage é {df_treino['Frontage'].mean()}\")\n",
    "print(f\"A mediana do Frontage é {df_treino['Frontage'].median()}\")\n",
    "print(f\"O tamanho mínimo do Frontage é {df_treino['Frontage'].min()}\")\n",
    "print(f\"O tamanho máximo do Frontage é {df_treino['Frontage'].max()}\")"
   ]
  },
  {
   "cell_type": "code",
   "execution_count": 30,
   "id": "f632b2f0",
   "metadata": {
    "ExecuteTime": {
     "end_time": "2024-11-04T19:51:54.951754Z",
     "start_time": "2024-11-04T19:51:54.946123Z"
    },
    "hidden": true
   },
   "outputs": [],
   "source": [
    "# Preenchendo valores nulos com a mediana geral\n",
    "df_treino['Frontage'].fillna(df_treino['Frontage'].median(), inplace=True)\n"
   ]
  },
  {
   "cell_type": "markdown",
   "id": "b13d38e2",
   "metadata": {},
   "source": [
    "### TotalFloorArea - Area total do piso em m2"
   ]
  },
  {
   "cell_type": "code",
   "execution_count": 31,
   "id": "d14910b0",
   "metadata": {
    "ExecuteTime": {
     "end_time": "2024-11-04T19:51:54.963633Z",
     "start_time": "2024-11-04T19:51:54.952470Z"
    }
   },
   "outputs": [
    {
     "name": "stdout",
     "output_type": "stream",
     "text": [
      "A média do TotalFloorArea é 172.84728023869636\n",
      "A mediana do TotalFloorArea é 95.0\n",
      "O tamanho mínimo do TotalFloorArea é 10\n",
      "O tamanho máximo do TotalFloorArea é 2000\n"
     ]
    }
   ],
   "source": [
    "print(f\"A média do TotalFloorArea é {df_treino['TotalFloorArea'].mean()}\")\n",
    "print(f\"A mediana do TotalFloorArea é {df_treino['TotalFloorArea'].median()}\")\n",
    "print(f\"O tamanho mínimo do TotalFloorArea é {df_treino['TotalFloorArea'].min()}\")\n",
    "print(f\"O tamanho máximo do TotalFloorArea é {df_treino['TotalFloorArea'].max()}\")\n"
   ]
  },
  {
   "cell_type": "code",
   "execution_count": 32,
   "id": "22403431",
   "metadata": {
    "ExecuteTime": {
     "end_time": "2024-11-04T19:51:54.972819Z",
     "start_time": "2024-11-04T19:51:54.964310Z"
    }
   },
   "outputs": [],
   "source": [
    "median_total_floor_area = df_treino['TotalFloorArea'].median()\n",
    "df_treino['TotalFloorArea'].fillna(median_total_floor_area, inplace=True)"
   ]
  },
  {
   "cell_type": "code",
   "execution_count": 33,
   "id": "66312d23",
   "metadata": {
    "ExecuteTime": {
     "end_time": "2024-11-04T19:51:55.251253Z",
     "start_time": "2024-11-04T19:51:54.973478Z"
    }
   },
   "outputs": [
    {
     "data": {
      "text/plain": [
       "Type                               0\n",
       "Region                             0\n",
       "MunicipalityCode                   0\n",
       "Prefecture                         0\n",
       "Municipality                       0\n",
       "DistrictName                       0\n",
       "NearestStation                     0\n",
       "TimeToNearestStation               0\n",
       "MinTimeToNearestStation          628\n",
       "MaxTimeToNearestStation          628\n",
       "FloorPlan                          0\n",
       "Area                               0\n",
       "AreaIsGreaterFlag                  0\n",
       "UnitPrice                          0\n",
       "PricePerTsubo                      0\n",
       "LandShape                          0\n",
       "Frontage                           0\n",
       "FrontageIsGreaterFlag              0\n",
       "TotalFloorArea                     0\n",
       "TotalFloorAreaIsGreaterFlag        0\n",
       "BuildingYear                   73682\n",
       "PrewarBuilding                     0\n",
       "Structure                          0\n",
       "Use                                0\n",
       "Purpose                            0\n",
       "Direction                          0\n",
       "Classification                     0\n",
       "Breadth                            0\n",
       "CityPlanning                       0\n",
       "CoverageRatio                    170\n",
       "FloorAreaRatio                   170\n",
       "Period                             0\n",
       "Year                               0\n",
       "Quarter                            0\n",
       "Renovation                         0\n",
       "Remarks                            0\n",
       "TradePrice                         0\n",
       "dtype: int64"
      ]
     },
     "execution_count": 33,
     "metadata": {},
     "output_type": "execute_result"
    }
   ],
   "source": [
    "df_treino.isna().sum()"
   ]
  },
  {
   "cell_type": "markdown",
   "id": "71d1f21f",
   "metadata": {},
   "source": [
    "### Buliding Year - Ano de construção do edifício"
   ]
  },
  {
   "cell_type": "code",
   "execution_count": 34,
   "id": "4903e6f7",
   "metadata": {
    "ExecuteTime": {
     "end_time": "2024-11-04T19:51:55.263096Z",
     "start_time": "2024-11-04T19:51:55.251942Z"
    }
   },
   "outputs": [
    {
     "name": "stdout",
     "output_type": "stream",
     "text": [
      "A média do BuildingYear é 1997.839461123756\n",
      "A mediana do BuildingYear é 2001.0\n",
      "O tamanho mínimo do BuildingYear é 1945\n",
      "O tamanho máximo do BuildingYear é 2020\n"
     ]
    }
   ],
   "source": [
    "print(f\"A média do BuildingYear é {df_treino['BuildingYear'].mean()}\")\n",
    "print(f\"A mediana do BuildingYear é {df_treino['BuildingYear'].median()}\")\n",
    "print(f\"O tamanho mínimo do BuildingYear é {df_treino['BuildingYear'].min()}\")\n",
    "print(f\"O tamanho máximo do BuildingYear é {df_treino['BuildingYear'].max()}\")"
   ]
  },
  {
   "cell_type": "code",
   "execution_count": 35,
   "id": "936ab7ce",
   "metadata": {
    "ExecuteTime": {
     "end_time": "2024-11-04T19:51:55.271223Z",
     "start_time": "2024-11-04T19:51:55.263920Z"
    }
   },
   "outputs": [
    {
     "name": "stdout",
     "output_type": "stream",
     "text": [
      "              BuildingYear  TradePrice\n",
      "BuildingYear      1.000000   -0.020633\n",
      "TradePrice       -0.020633    1.000000\n"
     ]
    }
   ],
   "source": [
    "correlation_matrix = df_treino[['BuildingYear', 'TradePrice']].corr()\n",
    "\n",
    "# Exibindo a matriz de correlação\n",
    "print(correlation_matrix)"
   ]
  },
  {
   "cell_type": "code",
   "execution_count": 36,
   "id": "6df30733",
   "metadata": {
    "ExecuteTime": {
     "end_time": "2024-11-04T19:51:55.397015Z",
     "start_time": "2024-11-04T19:51:55.271867Z"
    }
   },
   "outputs": [],
   "source": [
    "# substituir os valores nulos em anos em que houveram mais construções em cada município \n",
    "\n",
    "df_treino['BuildingYear'] = df_treino.groupby('Municipality')['BuildingYear'].transform(lambda x: x.fillna(x.mode()[0] if not x.mode().empty else None))\n"
   ]
  },
  {
   "cell_type": "code",
   "execution_count": 37,
   "id": "b35dba32",
   "metadata": {
    "ExecuteTime": {
     "end_time": "2024-11-04T19:51:55.675781Z",
     "start_time": "2024-11-04T19:51:55.397662Z"
    }
   },
   "outputs": [],
   "source": [
    "# mesmo após substituir algiuns NaN's, sobrou alguns valores faltantes, uma vez que necessitavam\n",
    "# de outros valores que também estavam ausentes. E como a quantidade de pouca em função do volume \n",
    "# de dados vou dropar estes também\n",
    "\n",
    "df_treino.dropna(subset=['MinTimeToNearestStation', 'MaxTimeToNearestStation', 'CoverageRatio', 'FloorAreaRatio'], inplace=True)\n"
   ]
  },
  {
   "cell_type": "markdown",
   "id": "7471181f",
   "metadata": {},
   "source": [
    "## Análise Exploratória de Dados"
   ]
  },
  {
   "cell_type": "code",
   "execution_count": 38,
   "id": "35473823",
   "metadata": {
    "ExecuteTime": {
     "end_time": "2024-11-04T19:51:55.916875Z",
     "start_time": "2024-11-04T19:51:55.676563Z"
    }
   },
   "outputs": [],
   "source": [
    "df2 = df_treino.copy() "
   ]
  },
  {
   "cell_type": "code",
   "execution_count": 39,
   "id": "c07ef22f",
   "metadata": {
    "ExecuteTime": {
     "end_time": "2024-11-04T19:51:55.922175Z",
     "start_time": "2024-11-04T19:51:55.917604Z"
    }
   },
   "outputs": [],
   "source": [
    "num_attributes = df2.select_dtypes(include=['int64', 'float64'])"
   ]
  },
  {
   "cell_type": "code",
   "execution_count": 40,
   "id": "8fa86f6f",
   "metadata": {
    "ExecuteTime": {
     "end_time": "2024-11-04T19:51:57.336003Z",
     "start_time": "2024-11-04T19:51:55.922765Z"
    }
   },
   "outputs": [
    {
     "ename": "ValueError",
     "evalue": "num must be an integer with 1 <= num <= 12, not 13",
     "output_type": "error",
     "traceback": [
      "\u001b[0;31m---------------------------------------------------------------------------\u001b[0m",
      "\u001b[0;31mValueError\u001b[0m                                Traceback (most recent call last)",
      "Cell \u001b[0;32mIn[40], line 4\u001b[0m\n\u001b[1;32m      1\u001b[0m plt\u001b[38;5;241m.\u001b[39mfigure(figsize\u001b[38;5;241m=\u001b[39m(\u001b[38;5;241m12\u001b[39m,\u001b[38;5;241m8\u001b[39m))\n\u001b[1;32m      3\u001b[0m \u001b[38;5;28;01mfor\u001b[39;00m i, column \u001b[38;5;129;01min\u001b[39;00m \u001b[38;5;28menumerate\u001b[39m(num_attributes, \u001b[38;5;241m1\u001b[39m):\n\u001b[0;32m----> 4\u001b[0m     plt\u001b[38;5;241m.\u001b[39msubplot(\u001b[38;5;241m3\u001b[39m,\u001b[38;5;241m4\u001b[39m,i)\n\u001b[1;32m      5\u001b[0m     plt\u001b[38;5;241m.\u001b[39mhist(df2[column], bins\u001b[38;5;241m=\u001b[39m\u001b[38;5;241m20\u001b[39m)\n\u001b[1;32m      6\u001b[0m     plt\u001b[38;5;241m.\u001b[39mtitle(column)\n",
      "File \u001b[0;32m~/.local/lib/python3.11/site-packages/matplotlib/pyplot.py:1534\u001b[0m, in \u001b[0;36msubplot\u001b[0;34m(*args, **kwargs)\u001b[0m\n\u001b[1;32m   1531\u001b[0m fig \u001b[38;5;241m=\u001b[39m gcf()\n\u001b[1;32m   1533\u001b[0m \u001b[38;5;66;03m# First, search for an existing subplot with a matching spec.\u001b[39;00m\n\u001b[0;32m-> 1534\u001b[0m key \u001b[38;5;241m=\u001b[39m SubplotSpec\u001b[38;5;241m.\u001b[39m_from_subplot_args(fig, args)\n\u001b[1;32m   1536\u001b[0m \u001b[38;5;28;01mfor\u001b[39;00m ax \u001b[38;5;129;01min\u001b[39;00m fig\u001b[38;5;241m.\u001b[39maxes:\n\u001b[1;32m   1537\u001b[0m     \u001b[38;5;66;03m# If we found an Axes at the position, we can reuse it if the user passed no\u001b[39;00m\n\u001b[1;32m   1538\u001b[0m     \u001b[38;5;66;03m# kwargs or if the Axes class and kwargs are identical.\u001b[39;00m\n\u001b[1;32m   1539\u001b[0m     \u001b[38;5;28;01mif\u001b[39;00m (ax\u001b[38;5;241m.\u001b[39mget_subplotspec() \u001b[38;5;241m==\u001b[39m key\n\u001b[1;32m   1540\u001b[0m         \u001b[38;5;129;01mand\u001b[39;00m (kwargs \u001b[38;5;241m==\u001b[39m {}\n\u001b[1;32m   1541\u001b[0m              \u001b[38;5;129;01mor\u001b[39;00m (ax\u001b[38;5;241m.\u001b[39m_projection_init\n\u001b[1;32m   1542\u001b[0m                  \u001b[38;5;241m==\u001b[39m fig\u001b[38;5;241m.\u001b[39m_process_projection_requirements(\u001b[38;5;241m*\u001b[39m\u001b[38;5;241m*\u001b[39mkwargs)))):\n",
      "File \u001b[0;32m~/.local/lib/python3.11/site-packages/matplotlib/gridspec.py:589\u001b[0m, in \u001b[0;36mSubplotSpec._from_subplot_args\u001b[0;34m(figure, args)\u001b[0m\n\u001b[1;32m    587\u001b[0m \u001b[38;5;28;01melse\u001b[39;00m:\n\u001b[1;32m    588\u001b[0m     \u001b[38;5;28;01mif\u001b[39;00m \u001b[38;5;129;01mnot\u001b[39;00m \u001b[38;5;28misinstance\u001b[39m(num, Integral) \u001b[38;5;129;01mor\u001b[39;00m num \u001b[38;5;241m<\u001b[39m \u001b[38;5;241m1\u001b[39m \u001b[38;5;129;01mor\u001b[39;00m num \u001b[38;5;241m>\u001b[39m rows\u001b[38;5;241m*\u001b[39mcols:\n\u001b[0;32m--> 589\u001b[0m         \u001b[38;5;28;01mraise\u001b[39;00m \u001b[38;5;167;01mValueError\u001b[39;00m(\n\u001b[1;32m    590\u001b[0m             \u001b[38;5;124mf\u001b[39m\u001b[38;5;124m\"\u001b[39m\u001b[38;5;124mnum must be an integer with 1 <= num <= \u001b[39m\u001b[38;5;132;01m{\u001b[39;00mrows\u001b[38;5;241m*\u001b[39mcols\u001b[38;5;132;01m}\u001b[39;00m\u001b[38;5;124m, \u001b[39m\u001b[38;5;124m\"\u001b[39m\n\u001b[1;32m    591\u001b[0m             \u001b[38;5;124mf\u001b[39m\u001b[38;5;124m\"\u001b[39m\u001b[38;5;124mnot \u001b[39m\u001b[38;5;132;01m{\u001b[39;00mnum\u001b[38;5;132;01m!r}\u001b[39;00m\u001b[38;5;124m\"\u001b[39m\n\u001b[1;32m    592\u001b[0m         )\n\u001b[1;32m    593\u001b[0m     i \u001b[38;5;241m=\u001b[39m j \u001b[38;5;241m=\u001b[39m num\n\u001b[1;32m    594\u001b[0m \u001b[38;5;28;01mreturn\u001b[39;00m gs[i\u001b[38;5;241m-\u001b[39m\u001b[38;5;241m1\u001b[39m:j]\n",
      "\u001b[0;31mValueError\u001b[0m: num must be an integer with 1 <= num <= 12, not 13"
     ]
    },
    {
     "data": {
      "image/png": "[encoded data removed]",
      "text/plain": [
       "<Figure size 1200x800 with 12 Axes>"
      ]
     },
     "metadata": {},
     "output_type": "display_data"
    }
   ],
   "source": [
    "plt.figure(figsize=(12,8))\n",
    "\n",
    "for i, column in enumerate(num_attributes, 1):\n",
    "    plt.subplot(3,4,i)\n",
    "    plt.hist(df2[column], bins=20)\n",
    "    plt.title(column)\n",
    "    plt.xlabel(\"Value\")\n",
    "    plt.ylabel(\"Frequency\")\n",
    "\n",
    "plt.tight_layout()\n",
    "plt.show()"
   ]
  },
  {
   "cell_type": "code",
   "execution_count": null,
   "id": "95556cd7",
   "metadata": {
    "ExecuteTime": {
     "end_time": "2024-11-04T19:51:57.337007Z",
     "start_time": "2024-11-04T19:51:57.337002Z"
    }
   },
   "outputs": [],
   "source": [
    "cat_attributes = df2.select_dtypes(exclude=['int64', 'float64', 'datetime64[ns]'])"
   ]
  },
  {
   "cell_type": "code",
   "execution_count": null,
   "id": "c17842df",
   "metadata": {
    "ExecuteTime": {
     "end_time": "2024-11-04T19:51:57.337532Z",
     "start_time": "2024-11-04T19:51:57.337528Z"
    }
   },
   "outputs": [],
   "source": [
    "plt.figure(figsize=(20,30))\n",
    "\n",
    "for i, column in enumerate(cat_attributes, 1):\n",
    "    plt.subplot(6,3,i)\n",
    "    sns.countplot(data=df2, x=column)\n",
    "    plt.title(column, fontweight='bold')\n",
    "    plt.xlabel(None)\n",
    "    plt.ylabel(None)\n",
    "    plt.xticks(rotation=45)\n",
    "\n",
    "plt.tight_layout()\n",
    "plt.show()"
   ]
  },
  {
   "cell_type": "markdown",
   "id": "68e681ec",
   "metadata": {},
   "source": [
    "## Análise Bivariada"
   ]
  },
  {
   "cell_type": "code",
   "execution_count": null,
   "id": "85dc46b6",
   "metadata": {
    "ExecuteTime": {
     "end_time": "2024-11-04T19:51:57.337966Z",
     "start_time": "2024-11-04T19:51:57.337960Z"
    }
   },
   "outputs": [],
   "source": [
    "plt.figure(figsize=(15,20))\n",
    "for i, column in enumerate (num_attributes, 1):\n",
    "    plt.subplot(3,3,i)\n",
    "    sns.boxplot(data=df2, x = 'TradePrice', y = column)\n",
    "    plt.title(f'{column} vs TradePrice', fontweight='bold')\n",
    "\n",
    "plt.tight_layout()\n",
    "plt.show()"
   ]
  },
  {
   "cell_type": "code",
   "execution_count": null,
   "id": "faa32f65",
   "metadata": {
    "ExecuteTime": {
     "end_time": "2024-11-04T19:51:57.338343Z",
     "start_time": "2024-11-04T19:51:57.338339Z"
    }
   },
   "outputs": [],
   "source": [
    "df2.columns"
   ]
  },
  {
   "cell_type": "markdown",
   "id": "18f27ed4",
   "metadata": {},
   "source": [
    "## Hipóteses\n",
    "\n",
    "OJECTIVE OF THIS ANALYSIS:\n",
    "1. To determine if home size and locaton influences the price of homes in Brazil\n",
    "2. The Top 3 most expensive and cheapest real estate market state in Brazil\n",
    "3. The most expensive and cheapest real estate market region in Brazil\n",
    "4. The Region with highest and Lowest number of Home sales\n",
    "5. The State with highest and lowest number of Home sales\n",
    "6. Exploring relationship between Home size and price"
   ]
  },
  {
   "cell_type": "code",
   "execution_count": null,
   "id": "a07a4cd7",
   "metadata": {},
   "outputs": [],
   "source": []
  }
 ],
 "metadata": {
  "kernelspec": {
   "display_name": "Python 3 (ipykernel)",
   "language": "python",
   "name": "python3"
  },
  "language_info": {
   "codemirror_mode": {
    "name": "ipython",
    "version": 3
   },
   "file_extension": ".py",
   "mimetype": "text/x-python",
   "name": "python",
   "nbconvert_exporter": "python",
   "pygments_lexer": "ipython3",
   "version": "3.11.7"
  }
 },
 "nbformat": 4,
 "nbformat_minor": 5
}
